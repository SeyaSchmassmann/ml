{
 "cells": [
  {
   "cell_type": "markdown",
   "id": "17846d37",
   "metadata": {},
   "source": [
    "## FHNW Machine Learning - FS2024"
   ]
  },
  {
   "cell_type": "code",
   "execution_count": null,
   "id": "aedad36c-f5d6-4d0a-90d5-a6cff57ff962",
   "metadata": {
    "deletable": false,
    "editable": false,
    "nbgrader": {
     "cell_type": "code",
     "checksum": "ad7b66cee4290ddbd36ccae1c76aad4b",
     "grade": false,
     "grade_id": "imports",
     "locked": true,
     "schema_version": 3,
     "solution": false,
     "task": false
    },
    "tags": []
   },
   "outputs": [],
   "source": [
    "# Notebook configs - DO NOT DELETE THIS CELL\n",
    "%load_ext autoreload\n",
    "%autoreload 2\n",
    "%matplotlib inline\n",
    "\n",
    "from IPython.core.interactiveshell import InteractiveShell\n",
    "InteractiveShell.ast_node_interactivity = \"all\""
   ]
  },
  {
   "cell_type": "markdown",
   "id": "7b8d594c-e1e7-4dd3-a8d6-5cc12f68ac7a",
   "metadata": {
    "deletable": false,
    "editable": false,
    "nbgrader": {
     "cell_type": "markdown",
     "checksum": "950773a34dd10efb223a819975edeacb",
     "grade": false,
     "grade_id": "header",
     "locked": true,
     "schema_version": 3,
     "solution": false,
     "task": false
    },
    "tags": []
   },
   "source": [
    "# Aufgabenblatt 0\n",
    "\n",
    "Zur freiwilligen Vorbereitung auf das Machine Learning Modul. Dieses Assignment **muss nicht abgegeben** werden und wird **nicht bewertet**.\n",
    "\n",
    "## Lernziele\n",
    "\n",
    "1. Einlesen von Daten.\n",
    "2.  `pandas`: Arbeiten mit tabellarischen Daten\n",
    "3. `seaborn`: Visualisieren von Daten\n",
    "4.  `numpy`: Arbeiten mit Array-Daten"
   ]
  },
  {
   "cell_type": "markdown",
   "id": "7f0656eb-325d-40ea-ad13-c461812a765c",
   "metadata": {
    "deletable": false,
    "editable": false,
    "nbgrader": {
     "cell_type": "markdown",
     "checksum": "b32c42f836cece39397758a9b9f5d1fa",
     "grade": false,
     "grade_id": "ex1",
     "locked": true,
     "schema_version": 3,
     "solution": false,
     "task": false
    },
    "tags": []
   },
   "source": [
    "## Aufgabe 1 - Einlesen von Daten\n",
    "\n",
    "Lesen Sie das File `./data/penguins_size.csv` ein mit `pd.read_csv()`."
   ]
  },
  {
   "cell_type": "code",
   "execution_count": null,
   "id": "b770f283-be58-42b7-aa27-b9f9c7824a59",
   "metadata": {
    "deletable": false,
    "nbgrader": {
     "cell_type": "code",
     "checksum": "c96164070804bbfcfb868eb01a195046",
     "grade": true,
     "grade_id": "task1",
     "locked": false,
     "points": 0,
     "schema_version": 3,
     "solution": true,
     "task": false
    },
    "tags": []
   },
   "outputs": [],
   "source": [
    "import pandas as pd\n",
    "\n",
    "# YOUR CODE HERE\n",
    "raise NotImplementedError()\n"
   ]
  },
  {
   "cell_type": "markdown",
   "id": "aaa5ee89-9beb-42f1-a8fd-4f6ca6329ec1",
   "metadata": {
    "deletable": false,
    "editable": false,
    "nbgrader": {
     "cell_type": "markdown",
     "checksum": "0ed6c028fa9b49d1b41fcfb126d9502b",
     "grade": false,
     "grade_id": "ex2a",
     "locked": true,
     "schema_version": 3,
     "solution": false,
     "task": false
    },
    "tags": []
   },
   "source": [
    "## Aufgabe 2 - Pandas DataFrame\n",
    "\n",
    "Zeigen Sie nun die ersten 5 Beobachtungen an. Benutzen Sie `df.head()`."
   ]
  },
  {
   "cell_type": "code",
   "execution_count": null,
   "id": "8e2f28e6-3564-46a1-9f7c-ed0686cae6e1",
   "metadata": {
    "deletable": false,
    "nbgrader": {
     "cell_type": "code",
     "checksum": "4c675e6ec47599d68572f9522d4a96b7",
     "grade": true,
     "grade_id": "task2a",
     "locked": false,
     "points": 0,
     "schema_version": 3,
     "solution": true,
     "task": false
    },
    "tags": []
   },
   "outputs": [],
   "source": [
    "# YOUR CODE HERE\n",
    "raise NotImplementedError()"
   ]
  },
  {
   "cell_type": "markdown",
   "id": "4b61f9d8-1364-4a58-9714-dbcfd28ee890",
   "metadata": {
    "deletable": false,
    "editable": false,
    "nbgrader": {
     "cell_type": "markdown",
     "checksum": "b4456240bab0d0e45cda0cc04da8c9e2",
     "grade": false,
     "grade_id": "ex2b",
     "locked": true,
     "schema_version": 3,
     "solution": false,
     "task": false
    },
    "tags": []
   },
   "source": [
    "Berechnen Sie nun Summary-Statistiken der Variablen. Benutzen Sie `df.describe()`."
   ]
  },
  {
   "cell_type": "code",
   "execution_count": null,
   "id": "6b4ad1e1-55ff-4574-ac6a-6fc89944bb4a",
   "metadata": {
    "deletable": false,
    "nbgrader": {
     "cell_type": "code",
     "checksum": "dbe39ef7f416fd2e7a72c4ba9dd36b96",
     "grade": true,
     "grade_id": "task2b",
     "locked": false,
     "points": 0,
     "schema_version": 3,
     "solution": true,
     "task": false
    },
    "tags": []
   },
   "outputs": [],
   "source": [
    "# YOUR CODE HERE\n",
    "raise NotImplementedError()"
   ]
  },
  {
   "cell_type": "markdown",
   "id": "157f4b0c-ca8c-4c9d-8cc6-441c1195f1dd",
   "metadata": {
    "deletable": false,
    "editable": false,
    "nbgrader": {
     "cell_type": "markdown",
     "checksum": "4f0278b40e2c7578d258e8ba390aafa4",
     "grade": false,
     "grade_id": "ex2c",
     "locked": true,
     "schema_version": 3,
     "solution": false,
     "task": false
    },
    "tags": []
   },
   "source": [
    "Erstellen Sie nun ein `pd.DataFrame` aus den Variablen `culmen_length_mm`, `flipper_length_mm` und `species`."
   ]
  },
  {
   "cell_type": "code",
   "execution_count": null,
   "id": "50d83509-040d-426f-a7c9-3622fb5d1fb6",
   "metadata": {
    "deletable": false,
    "nbgrader": {
     "cell_type": "code",
     "checksum": "1d4d76eeab54c0648a6bb931dd738bca",
     "grade": true,
     "grade_id": "sol2c",
     "locked": false,
     "points": 0,
     "schema_version": 3,
     "solution": true,
     "task": false
    },
    "tags": []
   },
   "outputs": [],
   "source": [
    "# YOUR CODE HERE\n",
    "raise NotImplementedError()"
   ]
  },
  {
   "cell_type": "markdown",
   "id": "5afdf31b-2726-4c36-a0ce-9f524d46f2ad",
   "metadata": {
    "deletable": false,
    "editable": false,
    "nbgrader": {
     "cell_type": "markdown",
     "checksum": "ae1ee85453859e7111d57dfc6be84888",
     "grade": false,
     "grade_id": "ex3",
     "locked": true,
     "schema_version": 3,
     "solution": false,
     "task": false
    },
    "tags": []
   },
   "source": [
    "## Aufgabe 3 - Visualisieren von Daten\n",
    "\n",
    "Erstellen Sie einen [sns.scatterplot](https://seaborn.pydata.org/generated/seaborn.scatterplot.html). Plotten Sie `culmen_length_mm`  gegen `flipper_length_mm` und färben Sie nach `species` ein."
   ]
  },
  {
   "cell_type": "code",
   "execution_count": null,
   "id": "2917bda8-c82d-419c-a0d6-03761db4f00f",
   "metadata": {
    "deletable": false,
    "nbgrader": {
     "cell_type": "code",
     "checksum": "18151f6e1adf4a1150d7e446f02836b3",
     "grade": true,
     "grade_id": "sol3",
     "locked": false,
     "points": 0,
     "schema_version": 3,
     "solution": true,
     "task": false
    },
    "tags": []
   },
   "outputs": [],
   "source": [
    "import seaborn as sns\n",
    "\n",
    "# YOUR CODE HERE\n",
    "raise NotImplementedError()"
   ]
  },
  {
   "cell_type": "markdown",
   "id": "71264ff5-7cbd-4824-b607-2545a025ef0c",
   "metadata": {
    "deletable": false,
    "editable": false,
    "nbgrader": {
     "cell_type": "markdown",
     "checksum": "31199e60179ef2e61157155d370e446e",
     "grade": false,
     "grade_id": "ex4a",
     "locked": true,
     "schema_version": 3,
     "solution": false,
     "task": false
    },
    "tags": []
   },
   "source": [
    "## Aufgabe 4 - Array Daten\n",
    "\n",
    "Erstellen Sie ein `numpy.ndarray` aus folgendem `pandas.DataFrame` mit der Methode `to_numpy()`"
   ]
  },
  {
   "cell_type": "code",
   "execution_count": null,
   "id": "9b995a91-f9e5-4f5d-89df-01a62e82cf59",
   "metadata": {
    "deletable": false,
    "nbgrader": {
     "cell_type": "code",
     "checksum": "8818520f80d86afcb69959041c332d0c",
     "grade": true,
     "grade_id": "sol4a",
     "locked": false,
     "points": 0,
     "schema_version": 3,
     "solution": true,
     "task": false
    },
    "tags": []
   },
   "outputs": [],
   "source": [
    "import numpy as np\n",
    "\n",
    "df3 = df[['culmen_length_mm', 'flipper_length_mm']]\n",
    "\n",
    "# YOUR CODE HERE\n",
    "raise NotImplementedError()"
   ]
  },
  {
   "cell_type": "markdown",
   "id": "cc6285df-4fb9-4974-b932-cc5810271cfd",
   "metadata": {
    "deletable": false,
    "editable": false,
    "nbgrader": {
     "cell_type": "markdown",
     "checksum": "74e14ffe8e21c64af8ecdbb87262bf97",
     "grade": false,
     "grade_id": "ex4b",
     "locked": true,
     "schema_version": 3,
     "solution": false,
     "task": false
    },
    "tags": []
   },
   "source": [
    "Berechnen Sie den Mittelwert über die beiden Spalten. Benutzen Sie `numpy.mean`. Was passiert?"
   ]
  },
  {
   "cell_type": "code",
   "execution_count": null,
   "id": "c9a62c0f-de48-4760-94a5-f56f89c418b7",
   "metadata": {
    "deletable": false,
    "nbgrader": {
     "cell_type": "code",
     "checksum": "5e6033ba6aee5b927a110e8f74f6521b",
     "grade": true,
     "grade_id": "sol4b",
     "locked": false,
     "points": 0,
     "schema_version": 3,
     "solution": true,
     "task": false
    },
    "tags": []
   },
   "outputs": [],
   "source": [
    "# YOUR CODE HERE\n",
    "raise NotImplementedError()"
   ]
  },
  {
   "cell_type": "markdown",
   "id": "5d0ac169-1cfd-44f5-9398-1067bc40d3ae",
   "metadata": {
    "deletable": false,
    "editable": false,
    "nbgrader": {
     "cell_type": "markdown",
     "checksum": "5769710c906aca58dac5b882f28b9ec0",
     "grade": false,
     "grade_id": "ex4c",
     "locked": true,
     "schema_version": 3,
     "solution": false,
     "task": false
    },
    "tags": []
   },
   "source": [
    "Versuchen Sie es mit `np.nanmean`."
   ]
  },
  {
   "cell_type": "code",
   "execution_count": null,
   "id": "056c26e4-3be5-4891-9fa9-7981b2bf1320",
   "metadata": {
    "deletable": false,
    "nbgrader": {
     "cell_type": "code",
     "checksum": "f3084d98ced831ad80fee6f18f9db320",
     "grade": true,
     "grade_id": "sol4c",
     "locked": false,
     "points": 0,
     "schema_version": 3,
     "solution": true,
     "task": false
    },
    "tags": []
   },
   "outputs": [],
   "source": [
    "# YOUR CODE HERE\n",
    "raise NotImplementedError()"
   ]
  }
 ],
 "metadata": {
  "kernelspec": {
   "display_name": "Python 3 (ipykernel)",
   "language": "python",
   "name": "python3"
  },
  "language_info": {
   "codemirror_mode": {
    "name": "ipython",
    "version": 3
   },
   "file_extension": ".py",
   "mimetype": "text/x-python",
   "name": "python",
   "nbconvert_exporter": "python",
   "pygments_lexer": "ipython3",
   "version": "3.11.7"
  }
 },
 "nbformat": 4,
 "nbformat_minor": 5
}
