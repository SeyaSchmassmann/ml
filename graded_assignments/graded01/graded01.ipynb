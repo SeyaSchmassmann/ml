{
 "cells": [
  {
   "cell_type": "markdown",
   "id": "bf24d86f",
   "metadata": {},
   "source": [
    "## FHNW Machine Learning - FS2024"
   ]
  },
  {
   "cell_type": "code",
   "execution_count": null,
   "id": "1681e2f3",
   "metadata": {
    "deletable": false,
    "editable": false,
    "nbgrader": {
     "cell_type": "code",
     "checksum": "9e93cfa0ad0f1b289da520c9c0566a3b",
     "grade": false,
     "grade_id": "setup",
     "locked": true,
     "schema_version": 3,
     "solution": false,
     "task": false
    },
    "tags": []
   },
   "outputs": [],
   "source": [
    "# DO NOT EDIT THIS CELL\n",
    "# ADD IMOPRTS IN ASSIGNMENT CELLS\n",
    "\n",
    "# Notebook configs\n",
    "%load_ext autoreload\n",
    "%autoreload 2\n",
    "%matplotlib inline\n",
    "\n",
    "from IPython.core.interactiveshell import InteractiveShell\n",
    "from IPython.display import HTML\n",
    "\n",
    "InteractiveShell.ast_node_interactivity = \"all\""
   ]
  },
  {
   "cell_type": "markdown",
   "id": "stylish-boutique",
   "metadata": {
    "deletable": false,
    "editable": false,
    "nbgrader": {
     "cell_type": "markdown",
     "checksum": "c70bf6e3e8114bf25254ca0e8328532a",
     "grade": false,
     "grade_id": "header",
     "locked": true,
     "schema_version": 3,
     "solution": false,
     "task": false
    }
   },
   "source": [
    "# Bewertete Aufgabe 01\n",
    "\n",
    "**Ausgabe:** Montag 4.3.2024\n",
    "\n",
    "**Abgabe:** Montag 25.3.2024 23:59 Uhr\n",
    "\n",
    "\n",
    "## Vorgaben zu Umsetzung und Abgabe\n",
    "\n",
    "- Die Algorithmen müssen auf der Basis von Array Operationen selber implementiert werden.\n",
    "- Der Code muss lauffähig sein bei Ausführung im Docker-Container zum Repo oder auf JHub. \n",
    "- Es darf kein Code ausgelagert werden, i.e. sämtlicher Code muss sich im Notebook befinden.\n",
    "- Sämtliche Plots sind komplett beschriftet (Achsen, Labels, Überschrift, Colorbar, ..), so dass der Plot ohne den Code zu konsultieren, verstanden werden kann.\n",
    "- Als **Abgabe** zählt der letzte Commit vor Abgabetermin in in Ihrem Fork des Repos.  \n",
    "\n",
    "- **Bitte löschen, kopieren, duplizieren, splitten und verschieben Sie die vorhandenen Zellen nicht**. Dies führt zu Problemen bei der Korrektur. Sie dürfen aber beliebig viele weitere Zellen hinzufügen (nur via **insert new cell**).\n",
    "- Laufzeit vom Notebook: Das Notebook sollte in weniger als 30 Minuten ausgeführt werden können.\n",
    "\n",
    "Für die Erarbeitung der Lösung darf unter Studierenden zusammengearbeitet werden. Die Zusammenarbeit ist dabei aber auf konzeptionelle und algorithmische Fragen und Verständnisaspekte beschränkt.  \n",
    "\n",
    "**Es darf kein Code oder Text von anderen oder vom Internet kopiert werden.**\n",
    "\n",
    "\n",
    "### Module\n",
    "\n",
    "Neben den Python-Basismodulen dürfen Sie die folgenden Module immer benutzen: `numpy`, `pandas`, `matplotlib`, `seaborn`,  `tqdm` (für Progress-Bars).\n",
    "\n",
    "Sie dürfen auch generell [sklearn.preprocessing](https://scikit-learn.org/stable/modules/classes.html#module-sklearn.preprocessing), [sklearn.model_selection](https://scikit-learn.org/stable/model_selection.html), [sklearn.pipeline](https://scikit-learn.org/stable/modules/classes.html#module-sklearn.pipeline) und [sklearn.compose](https://scikit-learn.org/stable/modules/classes.html#module-sklearn.compose) benutzen.\n",
    "\n",
    "Zusätzliche Module dürfen Sie nur verwenden wenn ausdrücklich erwähnt oder bereits vorgegeben in der Code-Cell.\n",
    "\n",
    "## Bewertung\n",
    "\n",
    "Bewertet wird:\n",
    "\n",
    "- Vollständigkeit (Code, Text)\n",
    "- Korrektheit (Code, Text)\n",
    "- Implementation (z.B. Vektorisierung der Operationen, Scikit-Learn API, Visualisierungen, Lesbarkeit Code/Output)"
   ]
  },
  {
   "cell_type": "markdown",
   "id": "headed-emergency",
   "metadata": {
    "deletable": false,
    "editable": false,
    "nbgrader": {
     "cell_type": "markdown",
     "checksum": "c6e51118c31cd74a646c1065cf9d6945",
     "grade": false,
     "grade_id": "einleitung",
     "locked": true,
     "schema_version": 3,
     "solution": false,
     "task": false
    }
   },
   "source": [
    "## Einleitung\n",
    "\n",
    "Der Schweizer Bauernverband hat immer mehr Bäuerinnen und Bauern welche Heidelbeeren anbauen. Mittlerweilen sind es schweizweit ca 150 Fussballfelder. Der Bedarf an Heidelbeeren ist stark gewachsen, man kommt mit der Produktion kaum nach. Es gibt dabei starke Konkurrenz aus dem Ausland. Der Bauernverband und viele Konsumentinnen und Konsumenten möchten aber schweizer Heidelbeeren auf dem Tisch. Der Bauernverband hat für die Heidelbeerproduzenten eine Untersuchung gestartet um herauszufinden, welche Faktoren die Ernte beeinflussen. Man möchte die Produzenten dabei unterstützen die Ernte zu maximieren und auch die voraussichtliche Ernte vorherzusagen. \n",
    "\n",
    "Der Bauernverband hat bei verschiedenen Produzenten über die vergangenen Jahre Daten erhoben hat. Nun hat der Verband Alex beauftragt ein Modell zu erstellen um den Zusammenhang zwischen Ernte und verschiedenen Faktoren zu modellieren. Mit diesem Modell erhofft man sich weitere Erkenntnisse. In einem ersten Schritt geht es darum eine möglichst akkurate Vorhersage der Ernte zu ermöglichen.\n",
    "\n",
    "Die folgende Tabelle zeigt die vorhandenen Daten. Pro Heidelbeer-Feld hat man folgende Daten über die Saison erhoben:\n",
    "\n",
    "\n",
    "| Spalte        | Erklärung                                                      |\n",
    "|-----------------------------|----------------------------------------------------------------|\n",
    "| Id              | Eindeutige Identifikationsnummer für jede Beobachtung              |\n",
    "| Klongrösse                   | Die durchschnittliche Grösse der Heidelbeerkolonie im Feld  ($m^2$)      |\n",
    "| Honigbiene                  | Dichte der Honigbienen im Feld (Bienen pro Quadratmeter pro Minute) |\n",
    "| Hummeln                     | Dichte der Hummeln im Feld (Hummeln pro Quadratmeter pro Minute)    |\n",
    "| AvgTempHoch | Durchschnitt der täglichen maximalen Lufttemperatur während der Blütezeit (C°)    |\n",
    "| AvgTief | Durchschnitt der täglichen minimalen Lufttemperatur während der Blütezeit (C°)   |\n",
    "| Regentage                   | Gesamtzahl der Tage während der Blütezeit mit Niederschlag      |\n",
    "| Fruchtansatz                | Prozentsatz der Blüten, die zu Früchten werden (0-1)                 |\n",
    "| Fruchtmasse                 | Gewicht der einzelnen Frucht (g)                                  |\n",
    "| Samen                       | Anzahl der Samen pro Frucht                                    |\n",
    "| Ertrag                      | Gesamtertrag der Heidelbeerernte (kg/ha)                              |\n",
    "\n",
    "\n",
    "\n",
    "Die Aufgabe besteht darin Alex zu unterstützen ein Modell zu entwickeln mit dem der `Ertrag` vorhergesagt werden kann."
   ]
  },
  {
   "cell_type": "markdown",
   "id": "amber-chambers",
   "metadata": {
    "deletable": false,
    "editable": false,
    "nbgrader": {
     "cell_type": "markdown",
     "checksum": "5b8a8cfb678e6349cfba340486c0b88d",
     "grade": false,
     "grade_id": "aufgabe1",
     "locked": true,
     "schema_version": 3,
     "solution": false,
     "task": false
    }
   },
   "source": [
    "## Aufgabe 1 (6 Punkte)\n",
    "\n",
    "Bevor man einen Datensatz modelliert ist es wichtig diesen zu untersuchen und kennenzulernen. Benutzen Sie ihre Kenntnisse aus _dsp_ um die Daten einzulesen, zu untersuchen und zu visualisieren."
   ]
  },
  {
   "cell_type": "markdown",
   "id": "aeceb2c6-0b40-439e-8d35-32354be126ce",
   "metadata": {
    "deletable": false,
    "editable": false,
    "nbgrader": {
     "cell_type": "markdown",
     "checksum": "196549544805ab93f59d3093529ade80",
     "grade": false,
     "grade_id": "task1a",
     "locked": true,
     "schema_version": 3,
     "solution": false,
     "task": false
    },
    "tags": []
   },
   "source": [
    "### Aufgabe 1 a\n",
    "\n",
    "Unternehmen Sie die folgenden Schritte:\n",
    "    \n",
    "- Lesen Sie den Datensatz `heidelbeere_train.csv` ein und verschaffen Sie sich einen groben Überblick.\n",
    "- Berechnen und zeigen Sie wichtige Kennzahlen.\n",
    "- Visualisieren Sie jede Variable mit einem sinnvollen Plot. Berücksichtigen Sie dabei die Fragestellung.\n",
    "\n",
    "\n",
    "Versetzen Sie sich in Ihre Lage: Sie kennen den Datensatz nicht und müssen nun so viele Erkenntnisse wie nötig erhalten, damit Sie die Daten verstehen und modellieren können. Ausserdem möchten Sie abschätzen können welche Variablen wichtig sein könnten und wie man Variablen allenfalls prozessieren muss."
   ]
  },
  {
   "cell_type": "code",
   "execution_count": null,
   "id": "inappropriate-cloud",
   "metadata": {
    "deletable": false,
    "nbgrader": {
     "cell_type": "code",
     "checksum": "816f775f470da1e1607c98ce8b9ac280",
     "grade": true,
     "grade_id": "antwort1a",
     "locked": false,
     "points": 4,
     "schema_version": 3,
     "solution": true,
     "task": false
    },
    "tags": []
   },
   "outputs": [],
   "source": [
    "# YOUR CODE HERE\n",
    "raise NotImplementedError()"
   ]
  },
  {
   "cell_type": "markdown",
   "id": "b558a37c",
   "metadata": {
    "deletable": false,
    "editable": false,
    "nbgrader": {
     "cell_type": "markdown",
     "checksum": "3ab987a3b68e0bdb8efddaef1edca4ab",
     "grade": false,
     "grade_id": "aufgabe1b",
     "locked": true,
     "schema_version": 3,
     "solution": false,
     "task": false
    }
   },
   "source": [
    "### Aufgabe 1 b\n",
    "\n",
    "Unser Ziel ist es, die Variable `Ertrag` vorherzusagen unter Verwendung der anderen Variablen.  \n",
    "\n",
    "Was lässt sich über dieses Vorhaben sagen? Diskutieren Sie Ihre Einsichten auf Basis der Analyse in Aufgabe 1a.\n",
    "\n",
    "Was fällt sonst noch auf in den Daten? Beschreiben und begründen Sie."
   ]
  },
  {
   "cell_type": "markdown",
   "id": "animal-portuguese",
   "metadata": {
    "deletable": false,
    "nbgrader": {
     "cell_type": "markdown",
     "checksum": "78a69bd2e2ff05984473e2492e0b207a",
     "grade": true,
     "grade_id": "antwort1b",
     "locked": false,
     "points": 2,
     "schema_version": 3,
     "solution": true,
     "task": false
    },
    "tags": []
   },
   "source": [
    "YOUR ANSWER HERE"
   ]
  },
  {
   "cell_type": "markdown",
   "id": "cognitive-emperor",
   "metadata": {
    "deletable": false,
    "editable": false,
    "nbgrader": {
     "cell_type": "markdown",
     "checksum": "0d70f9883591dae0ebb876b09e79112e",
     "grade": false,
     "grade_id": "aufgabe2",
     "locked": true,
     "schema_version": 3,
     "solution": false,
     "task": false
    }
   },
   "source": [
    "## Aufgabe 2 (8 Punkte)\n",
    "\n",
    "In dieser Aufgabe ist es das Ziel eine regularisierte Lineare Regression zu implementieren (_Ridge Regression_) und die Implementation zu validieren.\n",
    "\n",
    "### Ridge Regression\n",
    "\n",
    "Ridge Regression ist eine regularisierte Form ($L_2$-Regularisierung) der Ordinary Least Squares (OLS) Kostenfunktion für die lineare Regression.  \n",
    "\n",
    "Die Ridge Regression-Kostenfunktion $J(\\mathbf{w})$ für einen Datensatz $\\cal{D}=\\{(\\mathbf{x}^{(1)}, y^{(1)}), \\dots, (\\mathbf{x}^{(n)}, y^{(n)}) \\}$ mit $n$ Datenpunkten ist:\n",
    "\n",
    "\\begin{align}\n",
    "J(\\mathbf{w}) &= \\frac{1}{2n}\\sum_{i=1}^n (y^{(i)} - \\mathbf{x}^{(i)T}\\mathbf{w})^2 + \\Omega(\\mathbf{w})\n",
    "\\end{align}\n",
    "\n",
    "Wobei die Regularisierung $\\Omega(\\mathbf{w})$ folgendermassen definiert ist:\n",
    "\n",
    "\\begin{align}\n",
    "\\Omega(\\mathbf{w}) &= \\frac{1}{2}\\lambda \\sum_{j=1}^p w_j^2 \n",
    "\\end{align}\n",
    "\n",
    "Der $i$te Datenpunkt $\\mathbf{x}^{(i)}$ ist ein Vektor der Dimensionalität $\\mathbb{R}^{p +1}$: $\\mathbf{x}^{(i)} = \\Big(1, x_1^{(i)}, \\dots , x_p^{(i)}\\Big)$.\n",
    "\n",
    "$\\mathbf{w} = (w_0, \\dots, w_p)$ sind dabei die Modellkoeffizienten, $\\lambda$ ist die Regularisierungsstärke.\n",
    "\n",
    "\n",
    "**Beachten Sie:**\n",
    "\n",
    "- In sklearn wird statt $\\lambda$ jeweils $\\alpha$ `alpha` als Bezeichnung für die Regularisierungsstärke verwendet (wohl weil `lambda` ein reserviertes Wort ist in Python).\n",
    "\n",
    "- Um Gradient Descent auszuführen müssen Sie die Kostenfunktion ableiten. Die Vorgehensweise ist in den Kursunterlagen erklärt.\n",
    "\n",
    "- Coursera verwendet für die Bezeichung der Anzahl Datenpunkte $m$. Hier verwenden wir $n$, was gebräuchlicher ist. Ausserdem: $w$ ist ein Skalar, $\\mathbf{w}$ ein Vektor und $\\mathbf{W}$ eine Matrix.\n",
    "\n",
    "- Implementieren Sie alles vektorisiert.\n",
    "\n",
    "\n",
    "### Stochastic Gradient Descent\n",
    "\n",
    "Mit _Batch Gradient Descent (BGD)_ berechnet man den Gradienten der Kostenfunktion bezüglich der Modellparameter für jeden _Gradient Descent Step_ mit **allen Datenpunkten**. Damit berechnet man den Gradient exakt. Man kann den Gradient jedoch auch mit einem Subset der Datenpunkte berechnen und den exakten Gradient damit schätzen. Dadurch verringert sich der Rechenaufwand. Mit _Stochastic Gradient Descent (SGD)_ nimmt man nur **einen, zufällig ausgewählten, Datenpunkt** (deshalb _stochastic_) um den Gradient in jeder Iteration zu schätzen. \n",
    "\n",
    "Implementieren Sie die Optionen `optimization_method=\"bgd\"` und `optimization_method=\"sgd\"` um das Modell wahlweise mit _BGD_ oder _SGD_ zu optimisieren. "
   ]
  },
  {
   "cell_type": "markdown",
   "id": "greater-addition",
   "metadata": {
    "deletable": false,
    "editable": false,
    "nbgrader": {
     "cell_type": "markdown",
     "checksum": "8c12924c6c312052edd6d79d648a27ca",
     "grade": false,
     "grade_id": "aufgabe2a",
     "locked": true,
     "schema_version": 3,
     "solution": false,
     "task": false
    }
   },
   "source": [
    "### Aufgabe 2a\n",
    "Ergänzen Sie die untenstehende Klasse und deren Methoden. Folgen Sie der Scikit-Learn API ([Link](https://scikit-learn.org/stable/developers/develop.html)): Das bedeutet im Wesentlichen, dass Sie die Methoden implementieren sollen, die in der Klasse schon vorgegeben sind.\n",
    "\n",
    "Beachten Sie die in den Doc-Strings spezifizierten Angaben, insbesondere auch die der Shapes der Inputs und Outputs der einzelnen Methoden.\n",
    "\n",
    "Der Estimator soll eine Ridge Regression durchführen. Das Finden der Modell-Koeffizienten soll mit Gradient Descent erfolgen."
   ]
  },
  {
   "cell_type": "code",
   "execution_count": null,
   "id": "f6e3e697",
   "metadata": {
    "deletable": false,
    "nbgrader": {
     "cell_type": "code",
     "checksum": "8b92fbff0b0906ff824214e1069654e9",
     "grade": true,
     "grade_id": "antwort2a",
     "locked": false,
     "points": 8,
     "schema_version": 3,
     "solution": true,
     "task": false
    },
    "tags": []
   },
   "outputs": [],
   "source": [
    "from typing import Self\n",
    "\n",
    "import numpy as np\n",
    "from sklearn.base import BaseEstimator\n",
    "from tqdm.notebook import tqdm\n",
    "\n",
    "\n",
    "class LinearRegression(BaseEstimator):\n",
    "    \"\"\"Linear Regression\n",
    "    \n",
    "    Args:\n",
    "    -----\n",
    "        epsilon: if norm of gradient falls below epsilon, \n",
    "            gradient descent terminates (disable with negative values)  \n",
    "        max_num_steps: max number of steps for gradient descent\n",
    "        learning_rate: learning rate for gradient descent\n",
    "        optimization_method: one of 'bgd' (batch gradient descent),\n",
    "            'sgd' (stochastic gradient descent)\n",
    "        alpha: regularization strength (lambda)\n",
    "        verbose: whether to print progress during model training (optional)\n",
    "    \"\"\"\n",
    "\n",
    "    def __init__(\n",
    "        self,\n",
    "        epsilon: float = -1,\n",
    "        max_num_steps: int = 1000,\n",
    "        learning_rate: float = 0.1,\n",
    "        optimization_method: str = \"bgd\",\n",
    "        alpha: float = 0.0,\n",
    "        verbose: bool = True\n",
    "    ):\n",
    "        self.alpha = alpha\n",
    "        self.epsilon = epsilon\n",
    "        self.max_num_steps = max_num_steps\n",
    "        self.learning_rate = learning_rate\n",
    "        self.optimization_method = optimization_method\n",
    "        self.verbose = verbose\n",
    "\n",
    "    def fit(self, X: np.ndarray, y: np.ndarray) -> Self:\n",
    "        \"\"\"Fit the model coefficients.\n",
    "        Args:\n",
    "            X: input data (n, p)\n",
    "            y: input labels (n, )\n",
    "\n",
    "        Returns:\n",
    "            self\n",
    "        \"\"\"\n",
    "        # YOUR CODE HERE\n",
    "        raise NotImplementedError()\n",
    "\n",
    "    def gradient(self, X: np.ndarray, y: np.ndarray) -> np.ndarray:\n",
    "        \"\"\"Calculate Gradient of Cost Function.\n",
    "        \n",
    "        Calculates dJ/dw, while w are the current parameter estimates in self.w_\n",
    "\n",
    "        Args:\n",
    "            X: input data (n, p)\n",
    "            y: input labels (n, )\n",
    "\n",
    "        Returns:\n",
    "            dJ/dw gradient vector (p + 1, )\n",
    "        \"\"\"\n",
    "        # YOUR CODE HERE\n",
    "        raise NotImplementedError()\n",
    "        assert gradient.ndim == 1                \n",
    "        return gradient\n",
    "        \n",
    "    def cost(self, X: np.ndarray, y: np.ndarray) -> float:\n",
    "        \"\"\"Evaluate the Cost Function.\n",
    "\n",
    "        Args:\n",
    "            X: input data (n, p)\n",
    "            y: input labels (n, )\n",
    "\n",
    "        Returns:\n",
    "            total cost\n",
    "        \"\"\"\n",
    "        # YOUR CODE HERE\n",
    "        raise NotImplementedError()\n",
    "        assert isinstance(cost, float)\n",
    "        return cost\n",
    "\n",
    "    def predict(self, X: np.ndarray) -> np.ndarray:\n",
    "        \"\"\"Calculate Predictions.\n",
    "\n",
    "        Args:\n",
    "            X: input Data (n, p)\n",
    "            \n",
    "        Returns:\n",
    "            Predictions (n, )\n",
    "        \"\"\"\n",
    "        # YOUR CODE HERE\n",
    "        raise NotImplementedError()\n",
    "        assert predictions.ndim == 1\n",
    "        return predictions\n",
    "\n",
    "    def score(self, X: np.ndarray, y: np.ndarray) -> float:\n",
    "        \"\"\"Calculate R^2\n",
    "        \n",
    "        See: https://en.wikipedia.org/wiki/Coefficient_of_determination\n",
    "\n",
    "        Args:\n",
    "            X: Input Data (n, p)\n",
    "            y: Input Labels (n, )\n",
    "        \n",
    "        Returns:\n",
    "            R^2\n",
    "        \"\"\"\n",
    "        # YOUR CODE HERE\n",
    "        raise NotImplementedError()\n",
    "        assert isinstance(score, float)\n",
    "        return score\n",
    "\n",
    "    # Other methods if needed\n",
    "    # YOUR CODE HERE\n",
    "    raise NotImplementedError()"
   ]
  },
  {
   "cell_type": "markdown",
   "id": "21a2bd0b-5d39-40d9-b943-44fd8a9a4b45",
   "metadata": {
    "deletable": false,
    "editable": false,
    "nbgrader": {
     "cell_type": "markdown",
     "checksum": "ca0bad28dfc1916e24587ba349acf202",
     "grade": false,
     "grade_id": "info2b",
     "locked": true,
     "schema_version": 3,
     "solution": false,
     "task": false
    },
    "tags": []
   },
   "source": [
    "### Aufgabe 2b\n",
    "Die folgende Zelle enthält verschiedene Tests die Ihre Implementation prüfen. Sorgen Sie dafür, dass die folgenden Tests erfolgreich sind. Stellen Sie sicher, dass die Input-Shapes der Methoden die Sie implementieren den Doc-Strings entsprechen.\n",
    "\n",
    "**Achtung: Die Tests decken nicht alles ab. Sie können also nicht davon ausegehen, dass Ihre Implementation korrekt ist sobald die Tests erfolgreich sind.**\n",
    "\n",
    "Ihre Abgabe wird noch mit weiteren, für Sie nicht sichtbare Tests, geprüft. Es ist grundsätzlich ihre Aufgabe, die Implementation genau zu prüfen. Sie können dazu weitere Zellen mit eigenen Tests einfügen. Sie können jedoch die folgende Zelle nicht ändern. Diese wird nach Abgabe wieder überschrieben, sodass die von mir definierten Tests ausgeführt werden."
   ]
  },
  {
   "cell_type": "code",
   "execution_count": null,
   "id": "1144abb5-7657-4a4a-880f-ec48340a7f73",
   "metadata": {
    "deletable": false,
    "editable": false,
    "nbgrader": {
     "cell_type": "code",
     "checksum": "f015049551c16c07a29a82e503099d20",
     "grade": true,
     "grade_id": "tests2b",
     "locked": true,
     "points": 0,
     "schema_version": 3,
     "solution": false,
     "task": false
    },
    "tags": []
   },
   "outputs": [],
   "source": [
    "import numpy as np\n",
    "from sklearn.datasets import make_regression\n",
    "\n",
    "\n",
    "def print_result(test_name, passed, expected, actual):\n",
    "    status = \"Passed\" if passed else \"Failed\"\n",
    "    print(f\"{status} test: {test_name}\")\n",
    "    print(f\"----> Expected: {expected}\")\n",
    "    print(f\"----> Actual: {actual}\")\n",
    "\n",
    "\n",
    "def run_test_multivariate():\n",
    "    Xdummy, ydummy, w_true = make_regression(\n",
    "        n_samples=30, bias=5.0, coef=True, n_features=2, n_targets=1, random_state=123\n",
    "    )\n",
    "    w_true = np.concatenate([np.array([5.0]), w_true])\n",
    "\n",
    "    lr = LinearRegression(alpha=0, epsilon=1e-3, optimization_method=\"bgd\", learning_rate=0.1)\n",
    "    lr.fit(Xdummy, ydummy)\n",
    "\n",
    "    try:\n",
    "        np.testing.assert_allclose(w_true, lr.w_, atol=1e-3)\n",
    "        print_result(\"run_test_multivariate\", True, w_true, lr.w_)\n",
    "    except AssertionError:\n",
    "        print_result(\"run_test_multivariate\", False, w_true, lr.w_)\n",
    "\n",
    "\n",
    "def run_test_univariate():\n",
    "    Xdummy, ydummy, w_true = make_regression(\n",
    "        n_samples=30, bias=5.0, coef=True, n_features=1, n_targets=1, random_state=123\n",
    "    )\n",
    "    w_true = np.concatenate([np.array([5.0]), np.array([w_true])])\n",
    "    \n",
    "    lr = LinearRegression(alpha=0, epsilon=1e-3, optimization_method=\"bgd\", learning_rate=0.1)\n",
    "    lr.fit(Xdummy, ydummy)\n",
    "    try:\n",
    "        np.testing.assert_allclose(w_true, lr.w_, atol=1e-3)\n",
    "        print_result(\"run_test_univariate\", True, w_true, lr.w_)\n",
    "    except AssertionError:\n",
    "        print_result(\"run_test_univariate\", False, w_true, lr.w_)\n",
    "\n",
    "\n",
    "def run_test_score():\n",
    "    Xdummy, ydummy, w_true = make_regression(\n",
    "        n_samples=30, bias=5.0, coef=True, n_features=1, n_targets=1, random_state=123\n",
    "    )\n",
    "    lr = LinearRegression(alpha=0, epsilon=1e-3, optimization_method=\"bgd\", learning_rate=0.1)\n",
    "    lr.fit(Xdummy, ydummy)\n",
    "    score = lr.score(Xdummy, ydummy)\n",
    "    expected_score = 1.0\n",
    "\n",
    "    try:\n",
    "        np.testing.assert_almost_equal(score, expected_score, decimal=3)\n",
    "        print_result(\"run_test_score\", True, expected_score, score)\n",
    "    except AssertionError:\n",
    "        print_result(\"run_test_score\", False, expected_score, score)\n",
    "\n",
    "\n",
    "def run_test_cost():\n",
    "    Xdummy, ydummy, _ = make_regression(\n",
    "        n_samples=30, bias=5.0, coef=True, n_features=1, n_targets=1, random_state=123\n",
    "    )\n",
    "    lr = LinearRegression(alpha=0, epsilon=1e-3, optimization_method=\"bgd\", learning_rate=0.1)\n",
    "    lr.fit(Xdummy, ydummy)\n",
    "    actual_cost = lr.cost(Xdummy, ydummy)\n",
    "    expected_cost = 1e-6\n",
    "\n",
    "    try:\n",
    "        assert actual_cost < expected_cost\n",
    "        print_result(\"run_test_cost\", True, f\"< {expected_cost}\", actual_cost)\n",
    "    except AssertionError:\n",
    "        print_result(\"run_test_cost\", False, f\"< {expected_cost}\", actual_cost)\n",
    "\n",
    "\n",
    "def run_test_gradient():\n",
    "\n",
    "    Xdummy, ydummy, w_true = make_regression(\n",
    "        n_samples=30, bias=5.0, coef=True, n_features=1, n_targets=1, random_state=123\n",
    "    )\n",
    "    w_true = np.concatenate([np.array([5.0]), np.array([w_true])])\n",
    "\n",
    "    lr = LinearRegression(alpha=0, epsilon=1e-3, optimization_method=\"bgd\", learning_rate=0.1)\n",
    "    lr = lr.fit(Xdummy, ydummy)\n",
    "    \n",
    "    expected_gradient = np.array([-6.92655851, -59.01320294])\n",
    "    weights = np.array([0.0, 0.0])\n",
    "    lr.w_ = weights\n",
    "    actual_gradient = lr.gradient(Xdummy, ydummy)\n",
    "    try:\n",
    "        np.testing.assert_allclose(actual_gradient, expected_gradient)\n",
    "        print_result(\"run_test_gradient\", True, expected_gradient, actual_gradient)\n",
    "    except AssertionError:\n",
    "        print_result(\"run_test_gradient\", False, expected_gradient, actual_gradient)\n",
    "\n",
    "\n",
    "for test in [run_test_multivariate, run_test_univariate, run_test_score, run_test_cost, run_test_gradient]:\n",
    "    try:\n",
    "        test()\n",
    "    except Exception as e:\n",
    "        print(f\"Error during testing - test: {test} error: {e}\")\n",
    "\n"
   ]
  },
  {
   "cell_type": "markdown",
   "id": "500daaed",
   "metadata": {
    "deletable": false,
    "editable": false,
    "nbgrader": {
     "cell_type": "markdown",
     "checksum": "0dbb36f1dbd594e8256fc8280f385bce",
     "grade": false,
     "grade_id": "aufgabe3",
     "locked": true,
     "schema_version": 3,
     "solution": false,
     "task": false
    },
    "tags": []
   },
   "source": [
    "## Aufgabe 3 (16 Punkte)\n",
    "\n",
    "In dieser Aufgabe wenden Sie den Algorithmus auf dem Datensatz `heidelbeere_train.csv` an. Damit testen und untersuchen Sie ihre Implementation der Klasse `LinearRegression` und lernen gleichzeitig den Datensatz besser kennen.\n"
   ]
  },
  {
   "cell_type": "markdown",
   "id": "cb22e2d2-b8e1-4d1f-bb23-523255ba51ba",
   "metadata": {
    "deletable": false,
    "editable": false,
    "nbgrader": {
     "cell_type": "markdown",
     "checksum": "e3f306905ecc465431dda8c443e14ce6",
     "grade": false,
     "grade_id": "task3a",
     "locked": true,
     "schema_version": 3,
     "solution": false,
     "task": false
    },
    "tags": []
   },
   "source": [
    "### Aufgabe 3a\n",
    "\n",
    "1) Trainieren Sie ein Modell mit `learning_rate=1.0` (der Rest soll auf den Default-Werten sein). Verwenden Sie ausschliesslich `Fruchtmasse` als Input-Variable um `Ertrag` vorherzusagen. Lassen Sie die Variablen komplett unverändert.\n",
    "2) Berechnen und zeigen Sie $R^2$ mit der `score()` Methode.\n",
    "3) Zeigen Sie in einer Tabelle für die ersten 10 Beobachtungen: `y_true` ($\\mathbf{y}$), `y_hat` ($\\mathbf{\\hat{y}}$)und `y_true - y_hat` (das Residuum $\\mathbf{r}$). Sie können ein `pd.DataFrame` erstellen und dieses mit `print` anzeigen.\n",
    "4) Berechnen und zeigen Sie den Wert der Kostenfunktion.\n",
    "\n",
    "Verwenden Sie `print()` Statements um Fragen nach bestimmten Outputs zu beantworten. Beispiel:\n",
    "\n",
    "```\n",
    "print(f\"R^2 is: {lr.score(X_train, y_train):.3f}\")\n",
    "```"
   ]
  },
  {
   "cell_type": "code",
   "execution_count": null,
   "id": "4b55f444-1530-4013-831d-ed088afb4709",
   "metadata": {
    "deletable": false,
    "nbgrader": {
     "cell_type": "code",
     "checksum": "7e69716d82210d6251934c08ca8e48d7",
     "grade": true,
     "grade_id": "answer3a",
     "locked": false,
     "points": 2,
     "schema_version": 3,
     "solution": true,
     "task": false
    },
    "tags": []
   },
   "outputs": [],
   "source": [
    "# YOUR CODE HERE\n",
    "raise NotImplementedError()"
   ]
  },
  {
   "cell_type": "markdown",
   "id": "3674b972-86a3-4743-ac98-fae1339c0a8f",
   "metadata": {
    "deletable": false,
    "editable": false,
    "nbgrader": {
     "cell_type": "markdown",
     "checksum": "60cc80e82594d33a8f9d61e2950c5742",
     "grade": false,
     "grade_id": "task3b",
     "locked": true,
     "schema_version": 3,
     "solution": false,
     "task": false
    },
    "tags": []
   },
   "source": [
    "### Aufgabe 3b\n",
    "\n",
    "Verwenden Sie exakt den Code von Aufgabe 3a. **Ersetzen Sie einzig** die Variable `Fruchtmasse` mit `Samen`. Lassen Sie den Code nochmal laufen."
   ]
  },
  {
   "cell_type": "code",
   "execution_count": null,
   "id": "684ec739-52a5-475d-806c-0c0ce4cef291",
   "metadata": {
    "deletable": false,
    "nbgrader": {
     "cell_type": "code",
     "checksum": "8b992fc45d9bb740688e3f4644bdc62b",
     "grade": true,
     "grade_id": "answer3b",
     "locked": false,
     "points": 1,
     "schema_version": 3,
     "solution": true,
     "task": false
    },
    "tags": []
   },
   "outputs": [],
   "source": [
    "# YOUR CODE HERE\n",
    "raise NotImplementedError()"
   ]
  },
  {
   "cell_type": "markdown",
   "id": "a9c285dd-2902-4e8d-8a54-121d52757b66",
   "metadata": {
    "deletable": false,
    "editable": false,
    "nbgrader": {
     "cell_type": "markdown",
     "checksum": "741b3d89a81e6d719282d20bb2a58b6f",
     "grade": false,
     "grade_id": "task3b2",
     "locked": true,
     "schema_version": 3,
     "solution": false,
     "task": false
    },
    "tags": []
   },
   "source": [
    "Was beobachten Sie? Erklären Sie."
   ]
  },
  {
   "cell_type": "markdown",
   "id": "cbed822f-c632-46e5-b99f-989f58acc3b6",
   "metadata": {
    "deletable": false,
    "nbgrader": {
     "cell_type": "markdown",
     "checksum": "1f1196ea5c04dd6f3dd1b9e98b0f7cb4",
     "grade": true,
     "grade_id": "answer3b2",
     "locked": false,
     "points": 1,
     "schema_version": 3,
     "solution": true,
     "task": false
    },
    "tags": []
   },
   "source": [
    "YOUR ANSWER HERE"
   ]
  },
  {
   "cell_type": "markdown",
   "id": "4f7a3b8f-3374-435e-a090-4f4f735ecafa",
   "metadata": {
    "deletable": false,
    "editable": false,
    "nbgrader": {
     "cell_type": "markdown",
     "checksum": "152a3c450d301e95ff5c9f36ca4182c7",
     "grade": false,
     "grade_id": "task3c",
     "locked": true,
     "schema_version": 3,
     "solution": false,
     "task": false
    },
    "tags": []
   },
   "source": [
    "### Aufgabe 3c\n",
    "\n",
    "Verwenden Sie nun die Variablen `Fruchtmasse` und `Samen` gleichzeitig (_Multivariate Linear Regression_). **Ändern Sie was immer Sie für nötig halten (z.B. Modell-Parameter oder Pre-Processing)** um das Modell erfolgreich und mit möglichst wenig Gradient Descent Updates (steps) zu trainieren. Zeigen Sie mit einer geeigneten Grafik ob Batch Gradient Descent konvergiert hat (z.B. eine _Learning Curve_).\n",
    "\n",
    "Folgende Parameter von `LinearRegression` sollen Sie verwenden und dürfen nicht geändert werden:\n",
    "- `epsilon=1e-3`\n",
    "- `alpha=0`\n",
    "- `optimization_method=\"bgd\"`\n",
    "- `max_num_steps=x` wobei $x\\le50000$ (damit Sie nicht ewig trainieren)\n",
    "\n",
    "\n",
    "Versuchen Sie das Abbruchkriterium `Gradient < epsilon` zu erreichen."
   ]
  },
  {
   "cell_type": "code",
   "execution_count": null,
   "id": "f7d9be62-c650-45f1-87df-b31980f8dbed",
   "metadata": {
    "deletable": false,
    "nbgrader": {
     "cell_type": "code",
     "checksum": "915783a00de820db57f42cf4d49f1930",
     "grade": true,
     "grade_id": "answer3c",
     "locked": false,
     "points": 2,
     "schema_version": 3,
     "solution": true,
     "task": false
    },
    "tags": []
   },
   "outputs": [],
   "source": [
    "# YOUR CODE HERE\n",
    "raise NotImplementedError()\n"
   ]
  },
  {
   "cell_type": "markdown",
   "id": "cb3ee7bd-f11f-4684-8e43-cd1f5f19e493",
   "metadata": {
    "deletable": false,
    "editable": false,
    "nbgrader": {
     "cell_type": "markdown",
     "checksum": "0eb180da58234c88e87f5d24b9b8989c",
     "grade": false,
     "grade_id": "task3c2",
     "locked": true,
     "schema_version": 3,
     "solution": false,
     "task": false
    },
    "tags": []
   },
   "source": [
    "Is es Ihnen gelungen das Abbruchkriterium zu erreichen? \n",
    "\n",
    "Falls Ja: Was war entscheidend?\n",
    "\n",
    "Falls Nein: Warum nicht? Was hat Sie dem Ziel näher gebracht?"
   ]
  },
  {
   "cell_type": "markdown",
   "id": "f4ec7026-4d7c-4987-97f6-bf570ac848d4",
   "metadata": {
    "deletable": false,
    "nbgrader": {
     "cell_type": "markdown",
     "checksum": "3242f5f52500245d001c3ad750d5e565",
     "grade": true,
     "grade_id": "answer3c2",
     "locked": false,
     "points": 1,
     "schema_version": 3,
     "solution": true,
     "task": false
    },
    "tags": []
   },
   "source": [
    "YOUR ANSWER HERE"
   ]
  },
  {
   "cell_type": "markdown",
   "id": "1d5e7a01-67a9-421a-874a-32695fddef42",
   "metadata": {
    "deletable": false,
    "editable": false,
    "nbgrader": {
     "cell_type": "markdown",
     "checksum": "31a859193a46514a9d22146d7f6c0990",
     "grade": false,
     "grade_id": "task3d",
     "locked": true,
     "schema_version": 3,
     "solution": false,
     "task": false
    },
    "tags": []
   },
   "source": [
    "### Aufgabe 3d\n",
    "\n",
    "Trainieren Sie nun zwei Modelle. Einmal mit `optimization_method=\"sgd\"` und einmal mit `optimization_method=\"bgd\"`. Sie können die restlichen Parameter selber wählen, sie sollen aber identisch sein für die beiden Modelle.\n",
    "\n",
    "Zeichnen Sie für beide Modelle eine Learning-Curve. Wählen Sie eine Darstellung die einen einfachen Vergleich erlaubt.\n"
   ]
  },
  {
   "cell_type": "code",
   "execution_count": null,
   "id": "247606f6-4570-4a2c-9e4e-abe904ae8fed",
   "metadata": {
    "deletable": false,
    "nbgrader": {
     "cell_type": "code",
     "checksum": "20a51c8c19af82d9063d6e21927fa6fe",
     "grade": true,
     "grade_id": "answer3d",
     "locked": false,
     "points": 2,
     "schema_version": 3,
     "solution": true,
     "task": false
    },
    "tags": []
   },
   "outputs": [],
   "source": [
    "# YOUR CODE HERE\n",
    "raise NotImplementedError()"
   ]
  },
  {
   "cell_type": "markdown",
   "id": "07cedea7-b525-4413-a1dc-c917f407b415",
   "metadata": {
    "deletable": false,
    "editable": false,
    "nbgrader": {
     "cell_type": "markdown",
     "checksum": "1b8d02f5df256d8650b15ed7473b8679",
     "grade": false,
     "grade_id": "task3d2",
     "locked": true,
     "schema_version": 3,
     "solution": false,
     "task": false
    },
    "tags": []
   },
   "source": [
    "Wie unterscheiden sich die Learning-Curves? Warum?"
   ]
  },
  {
   "cell_type": "markdown",
   "id": "f1e2a1e3-983e-4109-878d-67636619443a",
   "metadata": {
    "deletable": false,
    "nbgrader": {
     "cell_type": "markdown",
     "checksum": "d7da4066fe26dfdde9b45dea9ee35605",
     "grade": true,
     "grade_id": "answer3d2",
     "locked": false,
     "points": 1,
     "schema_version": 3,
     "solution": true,
     "task": false
    },
    "tags": []
   },
   "source": [
    "YOUR ANSWER HERE"
   ]
  },
  {
   "cell_type": "markdown",
   "id": "18514e51-b633-425a-ace8-97bb65f1593f",
   "metadata": {
    "deletable": false,
    "editable": false,
    "nbgrader": {
     "cell_type": "markdown",
     "checksum": "e1b0aa9ee86825cadd1b1139af611dd2",
     "grade": false,
     "grade_id": "task3e",
     "locked": true,
     "schema_version": 3,
     "solution": false,
     "task": false
    },
    "tags": []
   },
   "source": [
    "### Aufgabe 3e\n",
    "\n",
    "Nun untersuchen wir verschiedene Learning-Rates. Verwenden Sie dasselbe Setup wie in Aufgabe 3c. Mit folgenden Parameter:\n",
    "- `epsilon=-1`\n",
    "- `alpha=0`\n",
    "- `optimization_method=\"bgd\"`\n",
    "- `max_num_steps=500`\n",
    "\n",
    "\n",
    "Variieren Sie ausschliesslich den `learning_rate` Parameter in einem sinnvollen Bereich. Wählen Sie mind. 10 verschieden Werte. Trainieren Sie mehrere Modelle und vergleichen Sie die Konvergenz der Modelle für jeden Wert von `learning_rate`. Versuchen Sie eine möglichst hohe, funktionierende Learning-Rate zu finden. Erstellen Sie dazu Learning-Curves.\n",
    "\n",
    "Achten Sie darauf, dass die Darstellung einen sinnvollen Vergleich erlaubt."
   ]
  },
  {
   "cell_type": "code",
   "execution_count": null,
   "id": "a7b85f52-912e-4041-8c34-fa2ca8ab9e89",
   "metadata": {
    "deletable": false,
    "nbgrader": {
     "cell_type": "code",
     "checksum": "819c446213dc202a0f92abc4018b3ec2",
     "grade": true,
     "grade_id": "answer3e",
     "locked": false,
     "points": 2,
     "schema_version": 3,
     "solution": true,
     "task": false
    },
    "tags": []
   },
   "outputs": [],
   "source": [
    "# YOUR CODE HERE\n",
    "raise NotImplementedError()\n",
    " "
   ]
  },
  {
   "cell_type": "markdown",
   "id": "7592d46b-20e5-4ac5-9e4e-fd05549b5a00",
   "metadata": {
    "deletable": false,
    "editable": false,
    "nbgrader": {
     "cell_type": "markdown",
     "checksum": "c853ea5ae4f3a5b97399c39bae4663b6",
     "grade": false,
     "grade_id": "task3e2",
     "locked": true,
     "schema_version": 3,
     "solution": false,
     "task": false
    },
    "tags": []
   },
   "source": [
    "Interpretieren Sie die Learning-Curves. Was sehen Sie? Welche Learning-Rates funktionieren und sind praktikabel? Welche finden Sie optimal?"
   ]
  },
  {
   "cell_type": "markdown",
   "id": "ff373323-cf17-4df7-935a-9ac9cc9554fc",
   "metadata": {
    "deletable": false,
    "nbgrader": {
     "cell_type": "markdown",
     "checksum": "f4611d5c7da3798f9eb726e6a0e54f4b",
     "grade": true,
     "grade_id": "answer3e2",
     "locked": false,
     "points": 1,
     "schema_version": 3,
     "solution": true,
     "task": false
    },
    "tags": []
   },
   "source": [
    "YOUR ANSWER HERE"
   ]
  },
  {
   "cell_type": "markdown",
   "id": "f33734bf-a923-465a-9138-fb349fa59fd7",
   "metadata": {
    "deletable": false,
    "editable": false,
    "nbgrader": {
     "cell_type": "markdown",
     "checksum": "5fc614508c1f7cf1913efdc3b6366e69",
     "grade": false,
     "grade_id": "task3f",
     "locked": true,
     "schema_version": 3,
     "solution": false,
     "task": false
    },
    "tags": []
   },
   "source": [
    "### Aufgabe 3f\n",
    "\n",
    "In dieser Aufgabe untersuchen Sie den Effekt der Regularisierung $\\lambda$ (Parameter `alpha`) auf das Modell. Dazu trainieren Sie mehrere Modelle mit verschiedenen Werten von `alpha` und vergleichen dann die Resultate. Folgende Bedingungen sollen Sie erfüllen:\n",
    "\n",
    "- Verwenden Sie folgende Features: `\"Samen\", \"Fruchtmasse\", \"Klongrösse\", \"Honigbiene\"`\n",
    "\n",
    "- Verwenden Sie `sklearn.preprocessing.PolynomialFeatures` um noch mehr Features zu generieren. Lesen Sie dazu die Dokumentation: [sklearn.preprocessing.PolynomialFeatures](https://scikit-learn.org/stable/modules/generated/sklearn.preprocessing.PolynomialFeatures.html)\n",
    "\n",
    "- Wählen Sie die `alpha` über einen grosszügig gewählten Bereich. Alle anderen Parameter sollen für alle Modelle identisch sein.\n",
    "\n",
    "- Vergleichen Sie für die verschiedenen Modelle die gefundenen Modell-Koeffizienten $\\mathbf{w}$. Plotten Sie dazu `alpha` auf der X-Achse und den Wert von jedem Modell-Koeffizient auf der Y-Achse. Beispiel: [Link](https://scikit-learn.org/stable/auto_examples/linear_model/plot_ridge_path.html)\n",
    "\n",
    "\n",
    "Tipp: Sie können `sklearn.preprocessing.StandardScaler` und `sklearn.pipeline.Pipeline`verwenden.\n"
   ]
  },
  {
   "cell_type": "code",
   "execution_count": null,
   "id": "7c9d99e9-0c24-49e5-a3a9-0824ce9088a9",
   "metadata": {
    "deletable": false,
    "nbgrader": {
     "cell_type": "code",
     "checksum": "c6a681487f03f2fc32efa8809e6d2b6f",
     "grade": true,
     "grade_id": "answer3f",
     "locked": false,
     "points": 2,
     "schema_version": 3,
     "solution": true,
     "task": false
    },
    "tags": []
   },
   "outputs": [],
   "source": [
    "# YOUR CODE HERE\n",
    "raise NotImplementedError()"
   ]
  },
  {
   "cell_type": "markdown",
   "id": "85bf08a7-8721-4df0-981a-83a497c477b5",
   "metadata": {
    "deletable": false,
    "editable": false,
    "nbgrader": {
     "cell_type": "markdown",
     "checksum": "07ec22c081523a1802e007aa5a7e124a",
     "grade": false,
     "grade_id": "task3f2",
     "locked": true,
     "schema_version": 3,
     "solution": false,
     "task": false
    },
    "tags": []
   },
   "source": [
    "Interpretieren Sie den Plot. Was sieht man und warum sieht es so aus?"
   ]
  },
  {
   "cell_type": "markdown",
   "id": "abc544d5-6a62-45d0-9e80-5edff1bc1001",
   "metadata": {
    "deletable": false,
    "nbgrader": {
     "cell_type": "markdown",
     "checksum": "8437d0c7a369e79f09c02f9c55e1e9f4",
     "grade": true,
     "grade_id": "answer3f2",
     "locked": false,
     "points": 1,
     "schema_version": 3,
     "solution": true,
     "task": false
    },
    "tags": []
   },
   "source": [
    "YOUR ANSWER HERE"
   ]
  },
  {
   "cell_type": "markdown",
   "id": "expired-distinction",
   "metadata": {
    "deletable": false,
    "editable": false,
    "nbgrader": {
     "cell_type": "markdown",
     "checksum": "efa424dd7e8b3e017924bae0bfea2ab0",
     "grade": false,
     "grade_id": "aufgabe4",
     "locked": true,
     "schema_version": 3,
     "solution": false,
     "task": false
    },
    "tags": []
   },
   "source": [
    "## Aufgabe 4 (8 Punkte)\n",
    "\n",
    "In dieser Aufgabe geht es darum ein best mögliches Modell zu finden.\n"
   ]
  },
  {
   "cell_type": "markdown",
   "id": "cab08236",
   "metadata": {
    "deletable": false,
    "editable": false,
    "nbgrader": {
     "cell_type": "markdown",
     "checksum": "c04e95846195bfda08be65f14973ac25",
     "grade": false,
     "grade_id": "aufgabe4a",
     "locked": true,
     "schema_version": 3,
     "solution": false,
     "task": false
    },
    "tags": []
   },
   "source": [
    "### Aufgabe 4a\n",
    "\n",
    "- Entwickeln Sie nun ein multiples lineares Regressionsmodell für die Zielgrösse `Ernte`.\n",
    "- Sie dürfen durch Feature-Transformation beliebige weitere Attribute hinzufügen.\n",
    "- Trainieren Sie das Modell mit dem Trainings-Datensatz. \n",
    "- Evaluieren Sie das beste Modell auf dem Trainings- und auf dem Testdatensatz.\n",
    "\n",
    "Hinweis: In dieser Aufgabe geht es darum ein möglichst gutes Modell zu finden. Sie sollen demonstrieren, dass Sie in der Lage sind verschiedene Modell-Varianten miteinander zu vergleichen und die beste Variante auszuwählen. Ein ideales Instrument ist Kreuzvalidierung. Lesen Sie dazu die folgende Dokumentation: [cross_validation](https://scikit-learn.org/stable/modules/cross_validation.html). Verwenden Sie [sklearn.model_selection.GridSearchCV](https://scikit-learn.org/stable/modules/generated/sklearn.model_selection.GridSearchCV.html) um verschiedene Modelle miteinander zu vergleichen. \n",
    "\n",
    "Verwenden Sie geeignete Instrumente von sklearn, wie z.B.:\n",
    "- [sklearn.preprocessing.StandardScaler](https://scikit-learn.org/stable/modules/generated/sklearn.preprocessing.StandardScaler.html)\n",
    "- [sklearn.pipeline.Pipeline](https://scikit-learn.org/stable/modules/generated/sklearn.pipeline.Pipeline.html)\n",
    "- [sklearn.compose](https://scikit-learn.org/stable/modules/classes.html#module-sklearn.compose)"
   ]
  },
  {
   "cell_type": "code",
   "execution_count": null,
   "id": "d89fccd5",
   "metadata": {
    "deletable": false,
    "nbgrader": {
     "cell_type": "code",
     "checksum": "9faaff1d20cc48e6ea2a2a50814da5ea",
     "grade": true,
     "grade_id": "answer4a",
     "locked": false,
     "points": 6,
     "schema_version": 3,
     "solution": true,
     "task": false
    },
    "tags": []
   },
   "outputs": [],
   "source": [
    "# YOUR CODE HERE\n",
    "raise NotImplementedError()"
   ]
  },
  {
   "cell_type": "markdown",
   "id": "6118c0d2",
   "metadata": {
    "deletable": false,
    "editable": false,
    "nbgrader": {
     "cell_type": "markdown",
     "checksum": "4df26a9dd6a1807667e113856777841a",
     "grade": false,
     "grade_id": "aufgabe4b",
     "locked": true,
     "schema_version": 3,
     "solution": false,
     "task": false
    },
    "tags": []
   },
   "source": [
    "### Aufgabe 4b\n",
    "\n",
    "Interpretieren Sie das Ergebnis:\n",
    "\n",
    "- Welche Modell-Varianten haben Sie verglichen? Welche ist die beste?\n",
    "- Vergleichen und interpretieren Sie Scores auf Test- und Trainingsdatensatz. Wie schneidet das Modell zu den besten Modellen aus Aufgabe 3 ab?"
   ]
  },
  {
   "cell_type": "markdown",
   "id": "92b10e20",
   "metadata": {
    "deletable": false,
    "nbgrader": {
     "cell_type": "markdown",
     "checksum": "e9f94662cd7dc59b02d9ef9bc8748465",
     "grade": true,
     "grade_id": "answer4b",
     "locked": false,
     "points": 2,
     "schema_version": 3,
     "solution": true,
     "task": false
    },
    "tags": []
   },
   "source": [
    "YOUR ANSWER HERE"
   ]
  },
  {
   "cell_type": "markdown",
   "id": "agreed-grace",
   "metadata": {
    "deletable": false,
    "editable": false,
    "nbgrader": {
     "cell_type": "markdown",
     "checksum": "a74dcbcabcee618805edb2a7e88c88de",
     "grade": false,
     "grade_id": "aufgabe5",
     "locked": true,
     "schema_version": 3,
     "solution": false,
     "task": false
    },
    "tags": []
   },
   "source": [
    "## Aufgabe 5 (2 Punkte)\n",
    "\n",
    "In dieser Aufgabe geht es darum die Ergebnisse der einzelnen Teilaufgaben zu konsolidieren und ein Fazit zu ziehen."
   ]
  },
  {
   "cell_type": "markdown",
   "id": "d0fe0b8f",
   "metadata": {
    "deletable": false,
    "editable": false,
    "nbgrader": {
     "cell_type": "markdown",
     "checksum": "a2eb8c27bfa2b1f5426fb7c0229b3bf3",
     "grade": false,
     "grade_id": "aufgabe5a",
     "locked": true,
     "schema_version": 3,
     "solution": false,
     "task": false
    },
    "tags": []
   },
   "source": [
    "### Aufgabe 5a\n",
    "\n",
    "Beantworten Sie folgende Fragen:\n",
    "\n",
    "- Wie schätzen Sie den Modellierungserfolg ein? Ist das Modell gut oder schlecht? Begründen Sie Ihre Antwort.\n",
    "\n",
    "- Alex soll in einem nächsten Projekt herausfinden, welche Einflussgrössen wichtig sind. Was können Sie dazu bereits sagen?\n"
   ]
  },
  {
   "cell_type": "markdown",
   "id": "1faca3d6-c6be-451c-9299-36ebf1a59af6",
   "metadata": {
    "deletable": false,
    "nbgrader": {
     "cell_type": "markdown",
     "checksum": "e7a0ec7b553e2aecb3302051ebbed443",
     "grade": true,
     "grade_id": "antwort5a",
     "locked": false,
     "points": 2,
     "schema_version": 3,
     "solution": true,
     "task": false
    },
    "tags": []
   },
   "source": [
    "YOUR ANSWER HERE"
   ]
  }
 ],
 "metadata": {
  "kernelspec": {
   "display_name": "Python 3 (ipykernel)",
   "language": "python",
   "name": "python3"
  },
  "language_info": {
   "codemirror_mode": {
    "name": "ipython",
    "version": 3
   },
   "file_extension": ".py",
   "mimetype": "text/x-python",
   "name": "python",
   "nbconvert_exporter": "python",
   "pygments_lexer": "ipython3",
   "version": "3.11.7"
  }
 },
 "nbformat": 4,
 "nbformat_minor": 5
}
