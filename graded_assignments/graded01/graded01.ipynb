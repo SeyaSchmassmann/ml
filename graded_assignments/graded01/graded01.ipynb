{
 "cells": [
  {
   "cell_type": "markdown",
   "id": "bf24d86f",
   "metadata": {},
   "source": [
    "## FHNW Machine Learning - FS2024"
   ]
  },
  {
   "cell_type": "code",
   "execution_count": 1,
   "id": "1681e2f3",
   "metadata": {
    "deletable": false,
    "editable": false,
    "nbgrader": {
     "cell_type": "code",
     "checksum": "9e93cfa0ad0f1b289da520c9c0566a3b",
     "grade": false,
     "grade_id": "setup",
     "locked": true,
     "schema_version": 3,
     "solution": false,
     "task": false
    },
    "tags": []
   },
   "outputs": [],
   "source": [
    "# DO NOT EDIT THIS CELL\n",
    "# ADD IMOPRTS IN ASSIGNMENT CELLS\n",
    "\n",
    "# Notebook configs\n",
    "%load_ext autoreload\n",
    "%autoreload 2\n",
    "%matplotlib inline\n",
    "\n",
    "from IPython.core.interactiveshell import InteractiveShell\n",
    "from IPython.display import HTML\n",
    "\n",
    "InteractiveShell.ast_node_interactivity = \"all\""
   ]
  },
  {
   "cell_type": "markdown",
   "id": "stylish-boutique",
   "metadata": {
    "deletable": false,
    "editable": false,
    "nbgrader": {
     "cell_type": "markdown",
     "checksum": "c70bf6e3e8114bf25254ca0e8328532a",
     "grade": false,
     "grade_id": "header",
     "locked": true,
     "schema_version": 3,
     "solution": false,
     "task": false
    }
   },
   "source": [
    "# Bewertete Aufgabe 01\n",
    "\n",
    "**Ausgabe:** Montag 4.3.2024\n",
    "\n",
    "**Abgabe:** Montag 25.3.2024 23:59 Uhr\n",
    "\n",
    "\n",
    "## Vorgaben zu Umsetzung und Abgabe\n",
    "\n",
    "- Die Algorithmen müssen auf der Basis von Array Operationen selber implementiert werden.\n",
    "- Der Code muss lauffähig sein bei Ausführung im Docker-Container zum Repo oder auf JHub. \n",
    "- Es darf kein Code ausgelagert werden, i.e. sämtlicher Code muss sich im Notebook befinden.\n",
    "- Sämtliche Plots sind komplett beschriftet (Achsen, Labels, Überschrift, Colorbar, ..), so dass der Plot ohne den Code zu konsultieren, verstanden werden kann.\n",
    "- Als **Abgabe** zählt der letzte Commit vor Abgabetermin in in Ihrem Fork des Repos.  \n",
    "\n",
    "- **Bitte löschen, kopieren, duplizieren, splitten und verschieben Sie die vorhandenen Zellen nicht**. Dies führt zu Problemen bei der Korrektur. Sie dürfen aber beliebig viele weitere Zellen hinzufügen (nur via **insert new cell**).\n",
    "- Laufzeit vom Notebook: Das Notebook sollte in weniger als 30 Minuten ausgeführt werden können.\n",
    "\n",
    "Für die Erarbeitung der Lösung darf unter Studierenden zusammengearbeitet werden. Die Zusammenarbeit ist dabei aber auf konzeptionelle und algorithmische Fragen und Verständnisaspekte beschränkt.  \n",
    "\n",
    "**Es darf kein Code oder Text von anderen oder vom Internet kopiert werden.**\n",
    "\n",
    "\n",
    "### Module\n",
    "\n",
    "Neben den Python-Basismodulen dürfen Sie die folgenden Module immer benutzen: `numpy`, `pandas`, `matplotlib`, `seaborn`,  `tqdm` (für Progress-Bars).\n",
    "\n",
    "Sie dürfen auch generell [sklearn.preprocessing](https://scikit-learn.org/stable/modules/classes.html#module-sklearn.preprocessing), [sklearn.model_selection](https://scikit-learn.org/stable/model_selection.html), [sklearn.pipeline](https://scikit-learn.org/stable/modules/classes.html#module-sklearn.pipeline) und [sklearn.compose](https://scikit-learn.org/stable/modules/classes.html#module-sklearn.compose) benutzen.\n",
    "\n",
    "Zusätzliche Module dürfen Sie nur verwenden wenn ausdrücklich erwähnt oder bereits vorgegeben in der Code-Cell.\n",
    "\n",
    "## Bewertung\n",
    "\n",
    "Bewertet wird:\n",
    "\n",
    "- Vollständigkeit (Code, Text)\n",
    "- Korrektheit (Code, Text)\n",
    "- Implementation (z.B. Vektorisierung der Operationen, Scikit-Learn API, Visualisierungen, Lesbarkeit Code/Output)"
   ]
  },
  {
   "cell_type": "markdown",
   "id": "headed-emergency",
   "metadata": {
    "deletable": false,
    "editable": false,
    "nbgrader": {
     "cell_type": "markdown",
     "checksum": "c6e51118c31cd74a646c1065cf9d6945",
     "grade": false,
     "grade_id": "einleitung",
     "locked": true,
     "schema_version": 3,
     "solution": false,
     "task": false
    }
   },
   "source": [
    "## Einleitung\n",
    "\n",
    "Der Schweizer Bauernverband hat immer mehr Bäuerinnen und Bauern welche Heidelbeeren anbauen. Mittlerweilen sind es schweizweit ca 150 Fussballfelder. Der Bedarf an Heidelbeeren ist stark gewachsen, man kommt mit der Produktion kaum nach. Es gibt dabei starke Konkurrenz aus dem Ausland. Der Bauernverband und viele Konsumentinnen und Konsumenten möchten aber schweizer Heidelbeeren auf dem Tisch. Der Bauernverband hat für die Heidelbeerproduzenten eine Untersuchung gestartet um herauszufinden, welche Faktoren die Ernte beeinflussen. Man möchte die Produzenten dabei unterstützen die Ernte zu maximieren und auch die voraussichtliche Ernte vorherzusagen. \n",
    "\n",
    "Der Bauernverband hat bei verschiedenen Produzenten über die vergangenen Jahre Daten erhoben hat. Nun hat der Verband Alex beauftragt ein Modell zu erstellen um den Zusammenhang zwischen Ernte und verschiedenen Faktoren zu modellieren. Mit diesem Modell erhofft man sich weitere Erkenntnisse. In einem ersten Schritt geht es darum eine möglichst akkurate Vorhersage der Ernte zu ermöglichen.\n",
    "\n",
    "Die folgende Tabelle zeigt die vorhandenen Daten. Pro Heidelbeer-Feld hat man folgende Daten über die Saison erhoben:\n",
    "\n",
    "\n",
    "| Spalte        | Erklärung                                                                      |\n",
    "|---------------|--------------------------------------------------------------------------------|\n",
    "| Id            | Eindeutige Identifikationsnummer für jede Beobachtung                          |\n",
    "| Klongrösse    | Die durchschnittliche Grösse der Heidelbeerkolonie im Feld  ($m^2$)            |\n",
    "| Honigbiene    | Dichte der Honigbienen im Feld (Bienen pro Quadratmeter pro Minute)            |\n",
    "| Hummeln       | Dichte der Hummeln im Feld (Hummeln pro Quadratmeter pro Minute)               |\n",
    "| AvgTempHoch   | Durchschnitt der täglichen maximalen Lufttemperatur während der Blütezeit (C°) |\n",
    "| AvgTief       | Durchschnitt der täglichen minimalen Lufttemperatur während der Blütezeit (C°) |\n",
    "| Regentage     | Gesamtzahl der Tage während der Blütezeit mit Niederschlag                     |\n",
    "| Fruchtansatz  | Prozentsatz der Blüten, die zu Früchten werden (0-1)                           |\n",
    "| Fruchtmasse   | Gewicht der einzelnen Frucht (g)                                               |\n",
    "| Samen         | Anzahl der Samen pro Frucht                                                    |\n",
    "| Ertrag        | Gesamtertrag der Heidelbeerernte (kg/ha)                                       |\n",
    "\n",
    "\n",
    "\n",
    "Die Aufgabe besteht darin Alex zu unterstützen ein Modell zu entwickeln mit dem der `Ertrag` vorhergesagt werden kann."
   ]
  },
  {
   "cell_type": "markdown",
   "id": "amber-chambers",
   "metadata": {
    "deletable": false,
    "editable": false,
    "nbgrader": {
     "cell_type": "markdown",
     "checksum": "5b8a8cfb678e6349cfba340486c0b88d",
     "grade": false,
     "grade_id": "aufgabe1",
     "locked": true,
     "schema_version": 3,
     "solution": false,
     "task": false
    }
   },
   "source": [
    "## Aufgabe 1 (6 Punkte)\n",
    "\n",
    "Bevor man einen Datensatz modelliert ist es wichtig diesen zu untersuchen und kennenzulernen. Benutzen Sie ihre Kenntnisse aus _dsp_ um die Daten einzulesen, zu untersuchen und zu visualisieren."
   ]
  },
  {
   "cell_type": "markdown",
   "id": "aeceb2c6-0b40-439e-8d35-32354be126ce",
   "metadata": {
    "deletable": false,
    "editable": false,
    "nbgrader": {
     "cell_type": "markdown",
     "checksum": "196549544805ab93f59d3093529ade80",
     "grade": false,
     "grade_id": "task1a",
     "locked": true,
     "schema_version": 3,
     "solution": false,
     "task": false
    },
    "tags": []
   },
   "source": [
    "### Aufgabe 1 a\n",
    "\n",
    "Unternehmen Sie die folgenden Schritte:\n",
    "    \n",
    "- Lesen Sie den Datensatz `heidelbeere_train.csv` ein und verschaffen Sie sich einen groben Überblick.\n",
    "- Berechnen und zeigen Sie wichtige Kennzahlen.\n",
    "- Visualisieren Sie jede Variable mit einem sinnvollen Plot. Berücksichtigen Sie dabei die Fragestellung.\n",
    "\n",
    "\n",
    "Versetzen Sie sich in Ihre Lage: Sie kennen den Datensatz nicht und müssen nun so viele Erkenntnisse wie nötig erhalten, damit Sie die Daten verstehen und modellieren können. Ausserdem möchten Sie abschätzen können welche Variablen wichtig sein könnten und wie man Variablen allenfalls prozessieren muss."
   ]
  },
  {
   "cell_type": "code",
   "execution_count": 71,
   "id": "inappropriate-cloud",
   "metadata": {
    "deletable": false,
    "nbgrader": {
     "cell_type": "code",
     "checksum": "816f775f470da1e1607c98ce8b9ac280",
     "grade": true,
     "grade_id": "antwort1a",
     "locked": false,
     "points": 4,
     "schema_version": 3,
     "solution": true,
     "task": false
    },
    "tags": []
   },
   "outputs": [
    {
     "name": "stdout",
     "output_type": "stream",
     "text": [
      "Beispiel-Datensätze:\n"
     ]
    },
    {
     "data": {
      "text/html": [
       "<div>\n",
       "<style scoped>\n",
       "    .dataframe tbody tr th:only-of-type {\n",
       "        vertical-align: middle;\n",
       "    }\n",
       "\n",
       "    .dataframe tbody tr th {\n",
       "        vertical-align: top;\n",
       "    }\n",
       "\n",
       "    .dataframe thead th {\n",
       "        text-align: right;\n",
       "    }\n",
       "</style>\n",
       "<table border=\"1\" class=\"dataframe\">\n",
       "  <thead>\n",
       "    <tr style=\"text-align: right;\">\n",
       "      <th></th>\n",
       "      <th>Id</th>\n",
       "      <th>Klongrösse</th>\n",
       "      <th>Honigbiene</th>\n",
       "      <th>Hummeln</th>\n",
       "      <th>AvgTempHoch</th>\n",
       "      <th>AvgTief</th>\n",
       "      <th>Regentage</th>\n",
       "      <th>Fruchtansatz</th>\n",
       "      <th>Fruchtmasse</th>\n",
       "      <th>Samen</th>\n",
       "      <th>Ertrag</th>\n",
       "    </tr>\n",
       "  </thead>\n",
       "  <tbody>\n",
       "    <tr>\n",
       "      <th>0</th>\n",
       "      <td>102</td>\n",
       "      <td>12.5</td>\n",
       "      <td>0.25</td>\n",
       "      <td>0.250</td>\n",
       "      <td>26.111111</td>\n",
       "      <td>13.277778</td>\n",
       "      <td>1.00</td>\n",
       "      <td>0.590337</td>\n",
       "      <td>0.493534</td>\n",
       "      <td>41.176421</td>\n",
       "      <td>7.301106</td>\n",
       "    </tr>\n",
       "    <tr>\n",
       "      <th>1</th>\n",
       "      <td>760</td>\n",
       "      <td>20.0</td>\n",
       "      <td>0.00</td>\n",
       "      <td>0.202</td>\n",
       "      <td>22.166667</td>\n",
       "      <td>10.444444</td>\n",
       "      <td>3.77</td>\n",
       "      <td>0.492760</td>\n",
       "      <td>0.443520</td>\n",
       "      <td>35.311957</td>\n",
       "      <td>5.718408</td>\n",
       "    </tr>\n",
       "    <tr>\n",
       "      <th>2</th>\n",
       "      <td>294</td>\n",
       "      <td>12.5</td>\n",
       "      <td>0.25</td>\n",
       "      <td>0.250</td>\n",
       "      <td>26.111111</td>\n",
       "      <td>13.277778</td>\n",
       "      <td>1.00</td>\n",
       "      <td>0.603372</td>\n",
       "      <td>0.500654</td>\n",
       "      <td>42.131538</td>\n",
       "      <td>7.675964</td>\n",
       "    </tr>\n",
       "    <tr>\n",
       "      <th>3</th>\n",
       "      <td>437</td>\n",
       "      <td>12.5</td>\n",
       "      <td>0.25</td>\n",
       "      <td>0.380</td>\n",
       "      <td>26.111111</td>\n",
       "      <td>13.277778</td>\n",
       "      <td>16.00</td>\n",
       "      <td>0.627442</td>\n",
       "      <td>0.519045</td>\n",
       "      <td>44.390944</td>\n",
       "      <td>8.254127</td>\n",
       "    </tr>\n",
       "    <tr>\n",
       "      <th>4</th>\n",
       "      <td>453</td>\n",
       "      <td>12.5</td>\n",
       "      <td>0.25</td>\n",
       "      <td>0.380</td>\n",
       "      <td>26.111111</td>\n",
       "      <td>13.277778</td>\n",
       "      <td>16.00</td>\n",
       "      <td>0.608340</td>\n",
       "      <td>0.504234</td>\n",
       "      <td>42.485953</td>\n",
       "      <td>7.616706</td>\n",
       "    </tr>\n",
       "  </tbody>\n",
       "</table>\n",
       "</div>"
      ],
      "text/plain": [
       "    Id  Klongrösse  Honigbiene  Hummeln  AvgTempHoch    AvgTief  Regentage  \\\n",
       "0  102        12.5        0.25    0.250    26.111111  13.277778       1.00   \n",
       "1  760        20.0        0.00    0.202    22.166667  10.444444       3.77   \n",
       "2  294        12.5        0.25    0.250    26.111111  13.277778       1.00   \n",
       "3  437        12.5        0.25    0.380    26.111111  13.277778      16.00   \n",
       "4  453        12.5        0.25    0.380    26.111111  13.277778      16.00   \n",
       "\n",
       "   Fruchtansatz  Fruchtmasse      Samen    Ertrag  \n",
       "0      0.590337     0.493534  41.176421  7.301106  \n",
       "1      0.492760     0.443520  35.311957  5.718408  \n",
       "2      0.603372     0.500654  42.131538  7.675964  \n",
       "3      0.627442     0.519045  44.390944  8.254127  \n",
       "4      0.608340     0.504234  42.485953  7.616706  "
      ]
     },
     "metadata": {},
     "output_type": "display_data"
    },
    {
     "name": "stdout",
     "output_type": "stream",
     "text": [
      "Anzahl Datensätze: 543\n",
      "\n",
      "Kennzahlen zu den Features:\n"
     ]
    },
    {
     "data": {
      "text/html": [
       "<div>\n",
       "<style scoped>\n",
       "    .dataframe tbody tr th:only-of-type {\n",
       "        vertical-align: middle;\n",
       "    }\n",
       "\n",
       "    .dataframe tbody tr th {\n",
       "        vertical-align: top;\n",
       "    }\n",
       "\n",
       "    .dataframe thead th {\n",
       "        text-align: right;\n",
       "    }\n",
       "</style>\n",
       "<table border=\"1\" class=\"dataframe\">\n",
       "  <thead>\n",
       "    <tr style=\"text-align: right;\">\n",
       "      <th></th>\n",
       "      <th>feature</th>\n",
       "      <th>dtype</th>\n",
       "      <th>missing_values</th>\n",
       "      <th>min</th>\n",
       "      <th>max</th>\n",
       "      <th>mean</th>\n",
       "      <th>median</th>\n",
       "      <th>std</th>\n",
       "      <th>amount_unique_values</th>\n",
       "      <th>correlation_coefficient_with_ertrag</th>\n",
       "    </tr>\n",
       "  </thead>\n",
       "  <tbody>\n",
       "    <tr>\n",
       "      <th>0</th>\n",
       "      <td>Klongrösse</td>\n",
       "      <td>float64</td>\n",
       "      <td>0</td>\n",
       "      <td>12.500000</td>\n",
       "      <td>40.000000</td>\n",
       "      <td>18.987109</td>\n",
       "      <td>12.500000</td>\n",
       "      <td>7.073404</td>\n",
       "      <td>5</td>\n",
       "      <td>-0.534269</td>\n",
       "    </tr>\n",
       "    <tr>\n",
       "      <th>1</th>\n",
       "      <td>Honigbiene</td>\n",
       "      <td>float64</td>\n",
       "      <td>0</td>\n",
       "      <td>0.000000</td>\n",
       "      <td>18.430000</td>\n",
       "      <td>0.425037</td>\n",
       "      <td>0.250000</td>\n",
       "      <td>1.104117</td>\n",
       "      <td>6</td>\n",
       "      <td>-0.030863</td>\n",
       "    </tr>\n",
       "    <tr>\n",
       "      <th>2</th>\n",
       "      <td>Hummeln</td>\n",
       "      <td>float64</td>\n",
       "      <td>0</td>\n",
       "      <td>0.000000</td>\n",
       "      <td>0.585000</td>\n",
       "      <td>0.283746</td>\n",
       "      <td>0.250000</td>\n",
       "      <td>0.065247</td>\n",
       "      <td>8</td>\n",
       "      <td>0.324705</td>\n",
       "    </tr>\n",
       "    <tr>\n",
       "      <th>3</th>\n",
       "      <td>AvgTempHoch</td>\n",
       "      <td>float64</td>\n",
       "      <td>0</td>\n",
       "      <td>14.555556</td>\n",
       "      <td>26.111111</td>\n",
       "      <td>20.339370</td>\n",
       "      <td>22.166667</td>\n",
       "      <td>4.266396</td>\n",
       "      <td>5</td>\n",
       "      <td>-0.184584</td>\n",
       "    </tr>\n",
       "    <tr>\n",
       "      <th>4</th>\n",
       "      <td>AvgTief</td>\n",
       "      <td>float64</td>\n",
       "      <td>0</td>\n",
       "      <td>5.111111</td>\n",
       "      <td>13.277778</td>\n",
       "      <td>9.184878</td>\n",
       "      <td>10.444444</td>\n",
       "      <td>3.010665</td>\n",
       "      <td>5</td>\n",
       "      <td>-0.183785</td>\n",
       "    </tr>\n",
       "    <tr>\n",
       "      <th>5</th>\n",
       "      <td>Regentage</td>\n",
       "      <td>float64</td>\n",
       "      <td>0</td>\n",
       "      <td>1.000000</td>\n",
       "      <td>34.000000</td>\n",
       "      <td>18.456169</td>\n",
       "      <td>16.000000</td>\n",
       "      <td>12.152015</td>\n",
       "      <td>5</td>\n",
       "      <td>-0.552893</td>\n",
       "    </tr>\n",
       "    <tr>\n",
       "      <th>6</th>\n",
       "      <td>Fruchtansatz</td>\n",
       "      <td>float64</td>\n",
       "      <td>0</td>\n",
       "      <td>0.233554</td>\n",
       "      <td>0.645641</td>\n",
       "      <td>0.501027</td>\n",
       "      <td>0.508104</td>\n",
       "      <td>0.079990</td>\n",
       "      <td>543</td>\n",
       "      <td>0.984571</td>\n",
       "    </tr>\n",
       "    <tr>\n",
       "      <th>7</th>\n",
       "      <td>Fruchtmasse</td>\n",
       "      <td>float64</td>\n",
       "      <td>0</td>\n",
       "      <td>0.320727</td>\n",
       "      <td>0.532772</td>\n",
       "      <td>0.445623</td>\n",
       "      <td>0.445383</td>\n",
       "      <td>0.040336</td>\n",
       "      <td>543</td>\n",
       "      <td>0.928948</td>\n",
       "    </tr>\n",
       "    <tr>\n",
       "      <th>8</th>\n",
       "      <td>Samen</td>\n",
       "      <td>float64</td>\n",
       "      <td>0</td>\n",
       "      <td>23.412776</td>\n",
       "      <td>46.585105</td>\n",
       "      <td>36.090538</td>\n",
       "      <td>36.148782</td>\n",
       "      <td>4.384937</td>\n",
       "      <td>543</td>\n",
       "      <td>0.960331</td>\n",
       "    </tr>\n",
       "  </tbody>\n",
       "</table>\n",
       "</div>"
      ],
      "text/plain": [
       "        feature    dtype  missing_values        min        max       mean  \\\n",
       "0    Klongrösse  float64               0  12.500000  40.000000  18.987109   \n",
       "1    Honigbiene  float64               0   0.000000  18.430000   0.425037   \n",
       "2       Hummeln  float64               0   0.000000   0.585000   0.283746   \n",
       "3   AvgTempHoch  float64               0  14.555556  26.111111  20.339370   \n",
       "4       AvgTief  float64               0   5.111111  13.277778   9.184878   \n",
       "5     Regentage  float64               0   1.000000  34.000000  18.456169   \n",
       "6  Fruchtansatz  float64               0   0.233554   0.645641   0.501027   \n",
       "7   Fruchtmasse  float64               0   0.320727   0.532772   0.445623   \n",
       "8         Samen  float64               0  23.412776  46.585105  36.090538   \n",
       "\n",
       "      median        std  amount_unique_values  \\\n",
       "0  12.500000   7.073404                     5   \n",
       "1   0.250000   1.104117                     6   \n",
       "2   0.250000   0.065247                     8   \n",
       "3  22.166667   4.266396                     5   \n",
       "4  10.444444   3.010665                     5   \n",
       "5  16.000000  12.152015                     5   \n",
       "6   0.508104   0.079990                   543   \n",
       "7   0.445383   0.040336                   543   \n",
       "8  36.148782   4.384937                   543   \n",
       "\n",
       "   correlation_coefficient_with_ertrag  \n",
       "0                            -0.534269  \n",
       "1                            -0.030863  \n",
       "2                             0.324705  \n",
       "3                            -0.184584  \n",
       "4                            -0.183785  \n",
       "5                            -0.552893  \n",
       "6                             0.984571  \n",
       "7                             0.928948  \n",
       "8                             0.960331  "
      ]
     },
     "metadata": {},
     "output_type": "display_data"
    },
    {
     "name": "stderr",
     "output_type": "stream",
     "text": [
      "C:\\Users\\Seya.Schmassmann\\AppData\\Local\\Temp\\ipykernel_13924\\3951362105.py:71: UserWarning: Matplotlib is currently using module://matplotlib_inline.backend_inline, which is a non-GUI backend, so cannot show the figure.\n",
      "  fig.show();\n",
      "C:\\Users\\Seya.Schmassmann\\AppData\\Local\\Temp\\ipykernel_13924\\3951362105.py:70: UserWarning: The figure layout has changed to tight\n",
      "  fig.tight_layout();\n",
      "C:\\Users\\Seya.Schmassmann\\AppData\\Local\\Temp\\ipykernel_13924\\3951362105.py:71: UserWarning: Matplotlib is currently using module://matplotlib_inline.backend_inline, which is a non-GUI backend, so cannot show the figure.\n",
      "  fig.show();\n",
      "C:\\Users\\Seya.Schmassmann\\AppData\\Local\\Temp\\ipykernel_13924\\3951362105.py:70: UserWarning: The figure layout has changed to tight\n",
      "  fig.tight_layout();\n",
      "C:\\Users\\Seya.Schmassmann\\AppData\\Local\\Temp\\ipykernel_13924\\3951362105.py:71: UserWarning: Matplotlib is currently using module://matplotlib_inline.backend_inline, which is a non-GUI backend, so cannot show the figure.\n",
      "  fig.show();\n",
      "C:\\Users\\Seya.Schmassmann\\AppData\\Local\\Temp\\ipykernel_13924\\3951362105.py:70: UserWarning: The figure layout has changed to tight\n",
      "  fig.tight_layout();\n",
      "C:\\Users\\Seya.Schmassmann\\AppData\\Local\\Temp\\ipykernel_13924\\3951362105.py:71: UserWarning: Matplotlib is currently using module://matplotlib_inline.backend_inline, which is a non-GUI backend, so cannot show the figure.\n",
      "  fig.show();\n",
      "C:\\Users\\Seya.Schmassmann\\AppData\\Local\\Temp\\ipykernel_13924\\3951362105.py:70: UserWarning: The figure layout has changed to tight\n",
      "  fig.tight_layout();\n",
      "C:\\Users\\Seya.Schmassmann\\AppData\\Local\\Temp\\ipykernel_13924\\3951362105.py:71: UserWarning: Matplotlib is currently using module://matplotlib_inline.backend_inline, which is a non-GUI backend, so cannot show the figure.\n",
      "  fig.show();\n",
      "C:\\Users\\Seya.Schmassmann\\AppData\\Local\\Temp\\ipykernel_13924\\3951362105.py:70: UserWarning: The figure layout has changed to tight\n",
      "  fig.tight_layout();\n",
      "C:\\Users\\Seya.Schmassmann\\AppData\\Local\\Temp\\ipykernel_13924\\3951362105.py:71: UserWarning: Matplotlib is currently using module://matplotlib_inline.backend_inline, which is a non-GUI backend, so cannot show the figure.\n",
      "  fig.show();\n",
      "C:\\Users\\Seya.Schmassmann\\AppData\\Local\\Temp\\ipykernel_13924\\3951362105.py:70: UserWarning: The figure layout has changed to tight\n",
      "  fig.tight_layout();\n",
      "C:\\Users\\Seya.Schmassmann\\AppData\\Local\\Temp\\ipykernel_13924\\3951362105.py:71: UserWarning: Matplotlib is currently using module://matplotlib_inline.backend_inline, which is a non-GUI backend, so cannot show the figure.\n",
      "  fig.show();\n",
      "C:\\Users\\Seya.Schmassmann\\AppData\\Local\\Temp\\ipykernel_13924\\3951362105.py:70: UserWarning: The figure layout has changed to tight\n",
      "  fig.tight_layout();\n",
      "C:\\Users\\Seya.Schmassmann\\AppData\\Local\\Temp\\ipykernel_13924\\3951362105.py:71: UserWarning: Matplotlib is currently using module://matplotlib_inline.backend_inline, which is a non-GUI backend, so cannot show the figure.\n",
      "  fig.show();\n",
      "C:\\Users\\Seya.Schmassmann\\AppData\\Local\\Temp\\ipykernel_13924\\3951362105.py:70: UserWarning: The figure layout has changed to tight\n",
      "  fig.tight_layout();\n",
      "C:\\Users\\Seya.Schmassmann\\AppData\\Local\\Temp\\ipykernel_13924\\3951362105.py:71: UserWarning: Matplotlib is currently using module://matplotlib_inline.backend_inline, which is a non-GUI backend, so cannot show the figure.\n",
      "  fig.show();\n"
     ]
    },
    {
     "data": {
      "image/png": "[encoded data removed]",
      "text/plain": [
       "<Figure size 1800x1200 with 9 Axes>"
      ]
     },
     "metadata": {},
     "output_type": "display_data"
    }
   ],
   "source": [
    "import pandas as pd\n",
    "import seaborn as sns\n",
    "import matplotlib.pyplot as plt\n",
    "import math\n",
    "\n",
    "# load data\n",
    "df_heidelbeeren = pd.read_csv('heidelbeere_train.csv')\n",
    "\n",
    "# display data\n",
    "print(f\"Beispiel-Datensätze:\")\n",
    "display(df_heidelbeeren.head())\n",
    "\n",
    "print(f\"Anzahl Datensätze: { df_heidelbeeren.shape[0] }\\n\")\n",
    "\n",
    "# calculate important feature specs\n",
    "features = ['Klongrösse', 'Honigbiene', 'Hummeln', 'AvgTempHoch', 'AvgTief', 'Regentage', 'Fruchtansatz', 'Fruchtmasse', 'Samen']\n",
    "\n",
    "df_feature_specs = pd.DataFrame(columns=['feature', 'dtype', 'missing_values', 'min', 'max', 'mean', 'median', 'std', 'amount_unique_values', 'correlation_coefficient_with_ertrag'])\n",
    "\n",
    "for feature in features:\n",
    "    new_feature_row = {\n",
    "        'feature': feature,\n",
    "        'dtype': df_heidelbeeren[feature].dtype,\n",
    "        'missing_values': df_heidelbeeren[feature].isna().sum(),\n",
    "        'min': df_heidelbeeren[feature].min(),\n",
    "        'max': df_heidelbeeren[feature].max(),\n",
    "        'mean': df_heidelbeeren[feature].mean(),\n",
    "        'median': df_heidelbeeren[feature].median(),\n",
    "        'std': df_heidelbeeren[feature].std(),\n",
    "        'amount_unique_values': df_heidelbeeren[feature].nunique(),\n",
    "        'correlation_coefficient_with_ertrag': df_heidelbeeren['Ertrag'].corr(df_heidelbeeren[feature])\n",
    "    }\n",
    "    df_feature_specs.loc[len(df_feature_specs)] = new_feature_row\n",
    "\n",
    "print(\"Kennzahlen zu den Features:\")\n",
    "display(df_feature_specs)\n",
    "\n",
    "# display columns as scatterplots\n",
    "number_of_features_to_visualize = len(features)\n",
    "number_of_rows = math.ceil(number_of_features_to_visualize / 3)\n",
    "number_of_columns = math.ceil(number_of_features_to_visualize / number_of_rows)\n",
    "\n",
    "fig, axs = plt.subplots(nrows=number_of_rows, ncols=number_of_columns, figsize=(18, 12))\n",
    "\n",
    "for index, feature in enumerate(features):\n",
    "    row = index // number_of_columns\n",
    "    col = index % number_of_columns\n",
    "\n",
    "    _ = axs[row, col].set_title(f\"Scatterplot von {feature}\")\n",
    "    _ = sns.scatterplot(data=df_heidelbeeren, x=feature, y='Ertrag', ax=axs[row, col]);\n",
    "\n",
    "    fig.tight_layout();\n",
    "    fig.show();"
   ]
  },
  {
   "cell_type": "markdown",
   "id": "b558a37c",
   "metadata": {
    "deletable": false,
    "editable": false,
    "nbgrader": {
     "cell_type": "markdown",
     "checksum": "3ab987a3b68e0bdb8efddaef1edca4ab",
     "grade": false,
     "grade_id": "aufgabe1b",
     "locked": true,
     "schema_version": 3,
     "solution": false,
     "task": false
    }
   },
   "source": [
    "### Aufgabe 1 b\n",
    "\n",
    "Unser Ziel ist es, die Variable `Ertrag` vorherzusagen unter Verwendung der anderen Variablen.  \n",
    "\n",
    "Was lässt sich über dieses Vorhaben sagen? Diskutieren Sie Ihre Einsichten auf Basis der Analyse in Aufgabe 1a.\n",
    "\n",
    "Was fällt sonst noch auf in den Daten? Beschreiben und begründen Sie."
   ]
  },
  {
   "cell_type": "markdown",
   "id": "animal-portuguese",
   "metadata": {
    "deletable": false,
    "nbgrader": {
     "cell_type": "markdown",
     "checksum": "78a69bd2e2ff05984473e2492e0b207a",
     "grade": true,
     "grade_id": "antwort1b",
     "locked": false,
     "points": 2,
     "schema_version": 3,
     "solution": true,
     "task": false
    },
    "tags": []
   },
   "source": [
    "In den vorhandenen Daten gibt es keine fehlenden Werte. Die Variablen befinden sich allerdings in unterschiedlichen Wertebereichen, dies geht aus den hohen Abweichungen von minimal (`min`) und maximal (`max`) Werten zwischen den Variablen hervor. Dies könnte bei der Modellierung zu Problemen führen. Deshalb sollten die Variablen auf einen normierten Bereich skalliert werden.\n",
    "\n",
    "Es fällt auf, dass die Variablen __Fruchtansatz__, __Fruchtmasse__ und __Samen__ kontinuierliche Werte annehmen, wobei die anderen Variablen eher kategorische Werte sind (`amount_unique_values`). \n",
    "\n",
    "Anhand der Scatterplots und der berechneten Korrelationskoeffizienten (`correlation_coefficient_with_ertrag`) lässt sich sagen, dass die Variablen __Fruchtansatz__, __Fruchtmasse__ und __Samen__ eine starke Korrelation mit dem Ertrag aufweisen. Die anderen Variablen scheinen einen untergeordneten Einfluss auf den Ertrag zu besitzen. Für ein erstes Modell macht es wohl Sinn die Variablen __Fruchtansatz__, __Fruchtmasse__ und __Samen__ zu verwenden und die anderen Variablen zu vernachlässigen oder diese nur mit einer geringen Gewichtung zu berücksichtigen.\n",
    "\n",
    "Bei der Verwendung von __Fruchtansatz__, __Fruchtmasse__ und __Samen__ erwarte ich eine hohe Vorhersagegenauigkeit, da diese Variablen eine starke Korrelation mit dem Ertrag aufweisen."
   ]
  },
  {
   "cell_type": "markdown",
   "id": "cognitive-emperor",
   "metadata": {
    "deletable": false,
    "editable": false,
    "nbgrader": {
     "cell_type": "markdown",
     "checksum": "0d70f9883591dae0ebb876b09e79112e",
     "grade": false,
     "grade_id": "aufgabe2",
     "locked": true,
     "schema_version": 3,
     "solution": false,
     "task": false
    }
   },
   "source": [
    "## Aufgabe 2 (8 Punkte)\n",
    "\n",
    "In dieser Aufgabe ist es das Ziel eine regularisierte Lineare Regression zu implementieren (_Ridge Regression_) und die Implementation zu validieren.\n",
    "\n",
    "### Ridge Regression\n",
    "\n",
    "Ridge Regression ist eine regularisierte Form ($L_2$-Regularisierung) der Ordinary Least Squares (OLS) Kostenfunktion für die lineare Regression.  \n",
    "\n",
    "Die Ridge Regression-Kostenfunktion $J(\\mathbf{w})$ für einen Datensatz $\\cal{D}=\\{(\\mathbf{x}^{(1)}, y^{(1)}), \\dots, (\\mathbf{x}^{(n)}, y^{(n)}) \\}$ mit $n$ Datenpunkten ist:\n",
    "\n",
    "\\begin{align}\n",
    "J(\\mathbf{w}) &= \\frac{1}{2n}\\sum_{i=1}^n (y^{(i)} - \\mathbf{x}^{(i)T}\\mathbf{w})^2 + \\Omega(\\mathbf{w})\n",
    "\\end{align}\n",
    "\n",
    "Wobei die Regularisierung $\\Omega(\\mathbf{w})$ folgendermassen definiert ist:\n",
    "\n",
    "\\begin{align}\n",
    "\\Omega(\\mathbf{w}) &= \\frac{1}{2}\\lambda \\sum_{j=1}^p w_j^2 \n",
    "\\end{align}\n",
    "\n",
    "Der $i$te Datenpunkt $\\mathbf{x}^{(i)}$ ist ein Vektor der Dimensionalität $\\mathbb{R}^{p +1}$: $\\mathbf{x}^{(i)} = \\Big(1, x_1^{(i)}, \\dots , x_p^{(i)}\\Big)$.\n",
    "\n",
    "$\\mathbf{w} = (w_0, \\dots, w_p)$ sind dabei die Modellkoeffizienten, $\\lambda$ ist die Regularisierungsstärke.\n",
    "\n",
    "\n",
    "**Beachten Sie:**\n",
    "\n",
    "- In sklearn wird statt $\\lambda$ jeweils $\\alpha$ `alpha` als Bezeichnung für die Regularisierungsstärke verwendet (wohl weil `lambda` ein reserviertes Wort ist in Python).\n",
    "\n",
    "- Um Gradient Descent auszuführen müssen Sie die Kostenfunktion ableiten. Die Vorgehensweise ist in den Kursunterlagen erklärt.\n",
    "\n",
    "- Coursera verwendet für die Bezeichung der Anzahl Datenpunkte $m$. Hier verwenden wir $n$, was gebräuchlicher ist. Ausserdem: $w$ ist ein Skalar, $\\mathbf{w}$ ein Vektor und $\\mathbf{W}$ eine Matrix.\n",
    "\n",
    "- Implementieren Sie alles vektorisiert.\n",
    "\n",
    "\n",
    "### Stochastic Gradient Descent\n",
    "\n",
    "Mit _Batch Gradient Descent (BGD)_ berechnet man den Gradienten der Kostenfunktion bezüglich der Modellparameter für jeden _Gradient Descent Step_ mit **allen Datenpunkten**. Damit berechnet man den Gradient exakt. Man kann den Gradient jedoch auch mit einem Subset der Datenpunkte berechnen und den exakten Gradient damit schätzen. Dadurch verringert sich der Rechenaufwand. Mit _Stochastic Gradient Descent (SGD)_ nimmt man nur **einen, zufällig ausgewählten, Datenpunkt** (deshalb _stochastic_) um den Gradient in jeder Iteration zu schätzen. \n",
    "\n",
    "Implementieren Sie die Optionen `optimization_method=\"bgd\"` und `optimization_method=\"sgd\"` um das Modell wahlweise mit _BGD_ oder _SGD_ zu optimisieren. "
   ]
  },
  {
   "cell_type": "markdown",
   "id": "greater-addition",
   "metadata": {
    "deletable": false,
    "editable": false,
    "nbgrader": {
     "cell_type": "markdown",
     "checksum": "8c12924c6c312052edd6d79d648a27ca",
     "grade": false,
     "grade_id": "aufgabe2a",
     "locked": true,
     "schema_version": 3,
     "solution": false,
     "task": false
    }
   },
   "source": [
    "### Aufgabe 2a\n",
    "Ergänzen Sie die untenstehende Klasse und deren Methoden. Folgen Sie der Scikit-Learn API ([Link](https://scikit-learn.org/stable/developers/develop.html)): Das bedeutet im Wesentlichen, dass Sie die Methoden implementieren sollen, die in der Klasse schon vorgegeben sind.\n",
    "\n",
    "Beachten Sie die in den Doc-Strings spezifizierten Angaben, insbesondere auch die der Shapes der Inputs und Outputs der einzelnen Methoden.\n",
    "\n",
    "Der Estimator soll eine Ridge Regression durchführen. Das Finden der Modell-Koeffizienten soll mit Gradient Descent erfolgen."
   ]
  },
  {
   "cell_type": "code",
   "execution_count": 201,
   "id": "f6e3e697",
   "metadata": {
    "deletable": false,
    "nbgrader": {
     "cell_type": "code",
     "checksum": "8b92fbff0b0906ff824214e1069654e9",
     "grade": true,
     "grade_id": "antwort2a",
     "locked": false,
     "points": 8,
     "schema_version": 3,
     "solution": true,
     "task": false
    },
    "tags": []
   },
   "outputs": [],
   "source": [
    "from typing import Self\n",
    "\n",
    "import numpy as np\n",
    "from sklearn.base import BaseEstimator\n",
    "from tqdm.notebook import tqdm\n",
    "\n",
    "\n",
    "class LinearRegression(BaseEstimator):\n",
    "    \"\"\"Linear Regression\n",
    "    \n",
    "    Args:\n",
    "    -----\n",
    "        epsilon: if norm of gradient falls below epsilon, \n",
    "            gradient descent terminates (disable with negative values)  \n",
    "        max_num_steps: max number of steps for gradient descent\n",
    "        learning_rate: learning rate for gradient descent\n",
    "        optimization_method: one of 'bgd' (batch gradient descent),\n",
    "            'sgd' (stochastic gradient descent)\n",
    "        alpha: regularization strength (lambda)\n",
    "        verbose: whether to print progress during model training (optional)\n",
    "    \"\"\"\n",
    "\n",
    "    def __init__(\n",
    "        self,\n",
    "        epsilon: float = -1,\n",
    "        max_num_steps: int = 1000,\n",
    "        learning_rate: float = 0.1,\n",
    "        optimization_method: str = \"bgd\",\n",
    "        alpha: float = 0.0,\n",
    "        verbose: bool = True\n",
    "    ):\n",
    "        self.alpha = alpha\n",
    "        self.epsilon = epsilon\n",
    "        self.max_num_steps = max_num_steps\n",
    "        self.learning_rate = learning_rate\n",
    "        self.optimization_method = optimization_method\n",
    "        self.verbose = verbose\n",
    "        self.history = []\n",
    "\n",
    "    def fit(self, X: np.ndarray, y: np.ndarray) -> Self:\n",
    "        \"\"\"Fit the model coefficients.\n",
    "        Args:\n",
    "            X: input data (n, p)\n",
    "            y: input labels (n, )\n",
    "\n",
    "        Returns:\n",
    "            self\n",
    "        \"\"\"\n",
    "        if (X.shape[0] != y.shape[0]):\n",
    "            raise ValueError(\"X and y must have the same number of rows\")\n",
    "\n",
    "        # Initialize weights with zeros\n",
    "        self.w_ = np.zeros(X.shape[1] + 1)\n",
    "\n",
    "        if self.verbose:\n",
    "            progress_bar = tqdm(total=self.max_num_steps, desc=\"Gradient Descent\")\n",
    "\n",
    "        for step in range(self.max_num_steps):\n",
    "            # Compute gradient\n",
    "            gradient = self.gradient(X, y)\n",
    "            \n",
    "            # Update weights\n",
    "            self.w_ -= self.learning_rate * gradient\n",
    "\n",
    "            self.history.append(self.cost(X, y))\n",
    "\n",
    "            # Check convergence\n",
    "            if np.linalg.norm(gradient) < self.epsilon:\n",
    "                if self.verbose:\n",
    "                    print(f\"Converged at step {step}\")\n",
    "                break\n",
    "\n",
    "            if self.verbose:\n",
    "                progress_bar.update(1)\n",
    "\n",
    "        if self.verbose:\n",
    "            progress_bar.close()\n",
    "\n",
    "        return self\n",
    "\n",
    "    def gradient(self, X: np.ndarray, y: np.ndarray) -> np.ndarray:\n",
    "        \"\"\"Calculate Gradient of Cost Function.\n",
    "        \n",
    "        Calculates dJ/dw, while w are the current parameter estimates in self.w_\n",
    "\n",
    "        Args:\n",
    "            X: input data (n, p)\n",
    "            y: input labels (n, )\n",
    "\n",
    "        Returns:\n",
    "            dJ/dw gradient vector (p + 1, )\n",
    "        \"\"\"\n",
    "        if (X.shape[0] != y.shape[0]):\n",
    "            raise ValueError(\"X and y must have the same number of rows\")\n",
    "\n",
    "        X = np.hstack([np.ones((X.shape[0], 1)), X])\n",
    "        n = X.shape[0]\n",
    "\n",
    "        gradient = np.zeros(X.shape[1])\n",
    "\n",
    "        if (self.optimization_method == \"bgd\"):\n",
    "            gradient = np.mean((y - X @ self.w_) * -X.T, axis=1)\n",
    "\n",
    "        elif (self.optimization_method == \"sgd\"):\n",
    "            i = np.random.randint(0, n)\n",
    "            error = y[i] - X[i].T @ self.w_\n",
    "            gradient += error * -X[i]\n",
    "\n",
    "        gradient += self.alpha * self.w_\n",
    "\n",
    "        assert gradient.ndim == 1\n",
    "        return gradient\n",
    "\n",
    "    def cost(self, X: np.ndarray, y: np.ndarray) -> float:\n",
    "        \"\"\"Evaluate the Cost Function.\n",
    "\n",
    "        Args:\n",
    "            X: input data (n, p)\n",
    "            y: input labels (n, )\n",
    "\n",
    "        Returns:\n",
    "            total cost\n",
    "        \"\"\"\n",
    "        if (X.shape[0] != y.shape[0]):\n",
    "            raise ValueError(\"X and y must have the same number of rows\")\n",
    "\n",
    "        X = np.hstack([np.ones((X.shape[0], 1)), X])\n",
    "        n = X.shape[0]\n",
    "\n",
    "        cost = 0;\n",
    "        if (self.optimization_method == \"bgd\"):\n",
    "            cost = np.mean((y - X @ self.w_) ** 2) / 2\n",
    "\n",
    "        elif (self.optimization_method == \"sgd\"):\n",
    "            i = np.random.randint(0, n)\n",
    "            cost += (y[i] - X[i].T @ self.w_) ** 2\n",
    "\n",
    "        cost += (self.alpha / 2) * self.w_ @ self.w_\n",
    "\n",
    "        assert isinstance(cost, float)\n",
    "        return cost\n",
    "\n",
    "    def predict(self, X: np.ndarray) -> np.ndarray:\n",
    "        \"\"\"Calculate Predictions.\n",
    "\n",
    "        Args:\n",
    "            X: input Data (n, p)\n",
    "            \n",
    "        Returns:\n",
    "            Predictions (n, )\n",
    "        \"\"\"\n",
    "        X = np.hstack([np.ones((X.shape[0], 1)), X])\n",
    "\n",
    "        predictions = X @ self.w_\n",
    "\n",
    "        assert predictions.ndim == 1\n",
    "        return predictions\n",
    "\n",
    "    def score(self, X: np.ndarray, y: np.ndarray) -> float:\n",
    "        \"\"\"Calculate R^2\n",
    "        \n",
    "        See: https://en.wikipedia.org/wiki/Coefficient_of_determination\n",
    "\n",
    "        Args:\n",
    "            X: Input Data (n, p)\n",
    "            y: Input Labels (n, )\n",
    "        \n",
    "        Returns:\n",
    "            R^2\n",
    "        \"\"\"\n",
    "        if (X.shape[0] != y.shape[0]):\n",
    "            raise ValueError(\"X and y must have the same number of rows\")\n",
    "\n",
    "        y_pred = self.predict(X)\n",
    "        y_mean = np.mean(y)\n",
    "        ss_res = np.sum((y - y_pred) ** 2)\n",
    "        ss_tot = np.sum((y - y_mean) ** 2)\n",
    "        score = 1 - (ss_res / ss_tot)\n",
    "\n",
    "        assert isinstance(score, float)\n",
    "        return score"
   ]
  },
  {
   "cell_type": "markdown",
   "id": "21a2bd0b-5d39-40d9-b943-44fd8a9a4b45",
   "metadata": {
    "deletable": false,
    "editable": false,
    "nbgrader": {
     "cell_type": "markdown",
     "checksum": "ca0bad28dfc1916e24587ba349acf202",
     "grade": false,
     "grade_id": "info2b",
     "locked": true,
     "schema_version": 3,
     "solution": false,
     "task": false
    },
    "tags": []
   },
   "source": [
    "### Aufgabe 2b\n",
    "Die folgende Zelle enthält verschiedene Tests die Ihre Implementation prüfen. Sorgen Sie dafür, dass die folgenden Tests erfolgreich sind. Stellen Sie sicher, dass die Input-Shapes der Methoden die Sie implementieren den Doc-Strings entsprechen.\n",
    "\n",
    "**Achtung: Die Tests decken nicht alles ab. Sie können also nicht davon ausegehen, dass Ihre Implementation korrekt ist sobald die Tests erfolgreich sind.**\n",
    "\n",
    "Ihre Abgabe wird noch mit weiteren, für Sie nicht sichtbare Tests, geprüft. Es ist grundsätzlich ihre Aufgabe, die Implementation genau zu prüfen. Sie können dazu weitere Zellen mit eigenen Tests einfügen. Sie können jedoch die folgende Zelle nicht ändern. Diese wird nach Abgabe wieder überschrieben, sodass die von mir definierten Tests ausgeführt werden."
   ]
  },
  {
   "cell_type": "code",
   "execution_count": 179,
   "id": "1144abb5-7657-4a4a-880f-ec48340a7f73",
   "metadata": {
    "deletable": false,
    "editable": false,
    "nbgrader": {
     "cell_type": "code",
     "checksum": "f015049551c16c07a29a82e503099d20",
     "grade": true,
     "grade_id": "tests2b",
     "locked": true,
     "points": 0,
     "schema_version": 3,
     "solution": false,
     "task": false
    },
    "tags": []
   },
   "outputs": [
    {
     "data": {
      "application/vnd.jupyter.widget-view+json": {
       "model_id": "acfcf32c61e44d97b0b308cf8999f1d6",
       "version_major": 2,
       "version_minor": 0
      },
      "text/plain": [
       "Gradient Descent:   0%|          | 0/1000 [00:00<?, ?it/s]"
      ]
     },
     "metadata": {},
     "output_type": "display_data"
    },
    {
     "name": "stdout",
     "output_type": "stream",
     "text": [
      "Converged at step 103\n",
      "Passed test: run_test_multivariate\n",
      "----> Expected: [ 5.         84.23424376  8.31949883]\n",
      "----> Actual: [ 5.00059277 84.2337517   8.3198281 ]\n"
     ]
    },
    {
     "data": {
      "application/vnd.jupyter.widget-view+json": {
       "model_id": "7044903dbde44d6ba37de8e8d6aaed87",
       "version_major": 2,
       "version_minor": 0
      },
      "text/plain": [
       "Gradient Descent:   0%|          | 0/1000 [00:00<?, ?it/s]"
      ]
     },
     "metadata": {},
     "output_type": "display_data"
    },
    {
     "name": "stdout",
     "output_type": "stream",
     "text": [
      "Converged at step 75\n",
      "Passed test: run_test_univariate\n",
      "----> Expected: [ 5.         43.08627633]\n",
      "----> Actual: [ 5.0000003 43.0856769]\n"
     ]
    },
    {
     "data": {
      "application/vnd.jupyter.widget-view+json": {
       "model_id": "cb5a52d2a49e4fb08db70ec360ba609a",
       "version_major": 2,
       "version_minor": 0
      },
      "text/plain": [
       "Gradient Descent:   0%|          | 0/1000 [00:00<?, ?it/s]"
      ]
     },
     "metadata": {},
     "output_type": "display_data"
    },
    {
     "name": "stdout",
     "output_type": "stream",
     "text": [
      "Converged at step 75\n",
      "Passed test: run_test_score\n",
      "----> Expected: 1.0\n",
      "----> Actual: 0.9999999998061698\n"
     ]
    },
    {
     "data": {
      "application/vnd.jupyter.widget-view+json": {
       "model_id": "e4f21f63a2884ceeb248ab271e6d180f",
       "version_major": 2,
       "version_minor": 0
      },
      "text/plain": [
       "Gradient Descent:   0%|          | 0/1000 [00:00<?, ?it/s]"
      ]
     },
     "metadata": {},
     "output_type": "display_data"
    },
    {
     "name": "stdout",
     "output_type": "stream",
     "text": [
      "Converged at step 75\n",
      "Passed test: run_test_cost\n",
      "----> Expected: < 1e-06\n",
      "----> Actual: 2.451287865990647e-07\n"
     ]
    },
    {
     "data": {
      "application/vnd.jupyter.widget-view+json": {
       "model_id": "11f9c7169186441598a24b7410ab39fd",
       "version_major": 2,
       "version_minor": 0
      },
      "text/plain": [
       "Gradient Descent:   0%|          | 0/1000 [00:00<?, ?it/s]"
      ]
     },
     "metadata": {},
     "output_type": "display_data"
    },
    {
     "name": "stdout",
     "output_type": "stream",
     "text": [
      "Converged at step 75\n",
      "Passed test: run_test_gradient\n",
      "----> Expected: [ -6.92655851 -59.01320294]\n",
      "----> Actual: [ -6.92655851 -59.01320294]\n"
     ]
    }
   ],
   "source": [
    "import numpy as np\n",
    "from sklearn.datasets import make_regression\n",
    "\n",
    "\n",
    "def print_result(test_name, passed, expected, actual):\n",
    "    status = \"Passed\" if passed else \"Failed\"\n",
    "    print(f\"{status} test: {test_name}\")\n",
    "    print(f\"----> Expected: {expected}\")\n",
    "    print(f\"----> Actual: {actual}\")\n",
    "\n",
    "\n",
    "def run_test_multivariate():\n",
    "    Xdummy, ydummy, w_true = make_regression(\n",
    "        n_samples=30, bias=5.0, coef=True, n_features=2, n_targets=1, random_state=123\n",
    "    )\n",
    "    w_true = np.concatenate([np.array([5.0]), w_true])\n",
    "\n",
    "    lr = LinearRegression(alpha=0, epsilon=1e-3, optimization_method=\"bgd\", learning_rate=0.1)\n",
    "    lr.fit(Xdummy, ydummy)\n",
    "\n",
    "    try:\n",
    "        np.testing.assert_allclose(w_true, lr.w_, atol=1e-3)\n",
    "        print_result(\"run_test_multivariate\", True, w_true, lr.w_)\n",
    "    except AssertionError:\n",
    "        print_result(\"run_test_multivariate\", False, w_true, lr.w_)\n",
    "\n",
    "\n",
    "def run_test_univariate():\n",
    "    Xdummy, ydummy, w_true = make_regression(\n",
    "        n_samples=30, bias=5.0, coef=True, n_features=1, n_targets=1, random_state=123\n",
    "    )\n",
    "    w_true = np.concatenate([np.array([5.0]), np.array([w_true])])\n",
    "    \n",
    "    lr = LinearRegression(alpha=0, epsilon=1e-3, optimization_method=\"bgd\", learning_rate=0.1)\n",
    "    lr.fit(Xdummy, ydummy)\n",
    "    try:\n",
    "        np.testing.assert_allclose(w_true, lr.w_, atol=1e-3)\n",
    "        print_result(\"run_test_univariate\", True, w_true, lr.w_)\n",
    "    except AssertionError:\n",
    "        print_result(\"run_test_univariate\", False, w_true, lr.w_)\n",
    "\n",
    "\n",
    "def run_test_score():\n",
    "    Xdummy, ydummy, w_true = make_regression(\n",
    "        n_samples=30, bias=5.0, coef=True, n_features=1, n_targets=1, random_state=123\n",
    "    )\n",
    "    lr = LinearRegression(alpha=0, epsilon=1e-3, optimization_method=\"bgd\", learning_rate=0.1)\n",
    "    lr.fit(Xdummy, ydummy)\n",
    "    score = lr.score(Xdummy, ydummy)\n",
    "    expected_score = 1.0\n",
    "\n",
    "    try:\n",
    "        np.testing.assert_almost_equal(score, expected_score, decimal=3)\n",
    "        print_result(\"run_test_score\", True, expected_score, score)\n",
    "    except AssertionError:\n",
    "        print_result(\"run_test_score\", False, expected_score, score)\n",
    "\n",
    "\n",
    "def run_test_cost():\n",
    "    Xdummy, ydummy, _ = make_regression(\n",
    "        n_samples=30, bias=5.0, coef=True, n_features=1, n_targets=1, random_state=123\n",
    "    )\n",
    "    lr = LinearRegression(alpha=0, epsilon=1e-3, optimization_method=\"bgd\", learning_rate=0.1)\n",
    "    lr.fit(Xdummy, ydummy)\n",
    "    actual_cost = lr.cost(Xdummy, ydummy)\n",
    "    expected_cost = 1e-6\n",
    "\n",
    "    try:\n",
    "        assert actual_cost < expected_cost\n",
    "        print_result(\"run_test_cost\", True, f\"< {expected_cost}\", actual_cost)\n",
    "    except AssertionError:\n",
    "        print_result(\"run_test_cost\", False, f\"< {expected_cost}\", actual_cost)\n",
    "\n",
    "\n",
    "def run_test_gradient():\n",
    "\n",
    "    Xdummy, ydummy, w_true = make_regression(\n",
    "        n_samples=30, bias=5.0, coef=True, n_features=1, n_targets=1, random_state=123\n",
    "    )\n",
    "    w_true = np.concatenate([np.array([5.0]), np.array([w_true])])\n",
    "\n",
    "    lr = LinearRegression(alpha=0, epsilon=1e-3, optimization_method=\"bgd\", learning_rate=0.1)\n",
    "    lr = lr.fit(Xdummy, ydummy)\n",
    "    \n",
    "    expected_gradient = np.array([-6.92655851, -59.01320294])\n",
    "    weights = np.array([0.0, 0.0])\n",
    "    lr.w_ = weights\n",
    "    actual_gradient = lr.gradient(Xdummy, ydummy)\n",
    "    try:\n",
    "        np.testing.assert_allclose(actual_gradient, expected_gradient)\n",
    "        print_result(\"run_test_gradient\", True, expected_gradient, actual_gradient)\n",
    "    except AssertionError:\n",
    "        print_result(\"run_test_gradient\", False, expected_gradient, actual_gradient)\n",
    "\n",
    "\n",
    "for test in [run_test_multivariate, run_test_univariate, run_test_score, run_test_cost, run_test_gradient]:\n",
    "    try:\n",
    "        test()\n",
    "    except Exception as e:\n",
    "        print(f\"Error during testing - test: {test} error: {e}\")\n",
    "\n"
   ]
  },
  {
   "cell_type": "markdown",
   "id": "500daaed",
   "metadata": {
    "deletable": false,
    "editable": false,
    "nbgrader": {
     "cell_type": "markdown",
     "checksum": "0dbb36f1dbd594e8256fc8280f385bce",
     "grade": false,
     "grade_id": "aufgabe3",
     "locked": true,
     "schema_version": 3,
     "solution": false,
     "task": false
    },
    "tags": []
   },
   "source": [
    "## Aufgabe 3 (16 Punkte)\n",
    "\n",
    "In dieser Aufgabe wenden Sie den Algorithmus auf dem Datensatz `heidelbeere_train.csv` an. Damit testen und untersuchen Sie ihre Implementation der Klasse `LinearRegression` und lernen gleichzeitig den Datensatz besser kennen.\n"
   ]
  },
  {
   "cell_type": "markdown",
   "id": "cb22e2d2-b8e1-4d1f-bb23-523255ba51ba",
   "metadata": {
    "deletable": false,
    "editable": false,
    "nbgrader": {
     "cell_type": "markdown",
     "checksum": "e3f306905ecc465431dda8c443e14ce6",
     "grade": false,
     "grade_id": "task3a",
     "locked": true,
     "schema_version": 3,
     "solution": false,
     "task": false
    },
    "tags": []
   },
   "source": [
    "### Aufgabe 3a\n",
    "\n",
    "1) Trainieren Sie ein Modell mit `learning_rate=1.0` (der Rest soll auf den Default-Werten sein). Verwenden Sie ausschliesslich `Fruchtmasse` als Input-Variable um `Ertrag` vorherzusagen. Lassen Sie die Variablen komplett unverändert.\n",
    "2) Berechnen und zeigen Sie $R^2$ mit der `score()` Methode.\n",
    "3) Zeigen Sie in einer Tabelle für die ersten 10 Beobachtungen: `y_true` ($\\mathbf{y}$), `y_hat` ($\\mathbf{\\hat{y}}$)und `y_true - y_hat` (das Residuum $\\mathbf{r}$). Sie können ein `pd.DataFrame` erstellen und dieses mit `print` anzeigen.\n",
    "4) Berechnen und zeigen Sie den Wert der Kostenfunktion.\n",
    "\n",
    "Verwenden Sie `print()` Statements um Fragen nach bestimmten Outputs zu beantworten. Beispiel:\n",
    "\n",
    "```\n",
    "print(f\"R^2 is: {lr.score(X_train, y_train):.3f}\")\n",
    "```"
   ]
  },
  {
   "cell_type": "code",
   "execution_count": 181,
   "id": "4b55f444-1530-4013-831d-ed088afb4709",
   "metadata": {
    "deletable": false,
    "nbgrader": {
     "cell_type": "code",
     "checksum": "7e69716d82210d6251934c08ca8e48d7",
     "grade": true,
     "grade_id": "answer3a",
     "locked": false,
     "points": 2,
     "schema_version": 3,
     "solution": true,
     "task": false
    },
    "tags": []
   },
   "outputs": [
    {
     "data": {
      "application/vnd.jupyter.widget-view+json": {
       "model_id": "334c9cc8602b43c79961a5d81b225bab",
       "version_major": 2,
       "version_minor": 0
      },
      "text/plain": [
       "Gradient Descent:   0%|          | 0/1000 [00:00<?, ?it/s]"
      ]
     },
     "metadata": {},
     "output_type": "display_data"
    },
    {
     "name": "stdout",
     "output_type": "stream",
     "text": [
      "R^2 is: 0.813\n",
      "cost is 0.174\n"
     ]
    }
   ],
   "source": [
    "import pandas as pd\n",
    "\n",
    "df_heidelbeeren = pd.read_csv('heidelbeere_train.csv')\n",
    "\n",
    "lr = LinearRegression(learning_rate=1.0)\n",
    "\n",
    "X_train = df_heidelbeeren['Fruchtmasse'].values.reshape(-1, 1)\n",
    "y_train = df_heidelbeeren['Ertrag'].values\n",
    "\n",
    "lr.fit(X_train, y_train)\n",
    "\n",
    "print(f\"R^2 is: {lr.score(X_train, y_train):.3f}\")\n",
    "print(f\"cost is {lr.cost(X_train, y_train):.3f}\")"
   ]
  },
  {
   "cell_type": "markdown",
   "id": "3674b972-86a3-4743-ac98-fae1339c0a8f",
   "metadata": {
    "deletable": false,
    "editable": false,
    "nbgrader": {
     "cell_type": "markdown",
     "checksum": "60cc80e82594d33a8f9d61e2950c5742",
     "grade": false,
     "grade_id": "task3b",
     "locked": true,
     "schema_version": 3,
     "solution": false,
     "task": false
    },
    "tags": []
   },
   "source": [
    "### Aufgabe 3b\n",
    "\n",
    "Verwenden Sie exakt den Code von Aufgabe 3a. **Ersetzen Sie einzig** die Variable `Fruchtmasse` mit `Samen`. Lassen Sie den Code nochmal laufen."
   ]
  },
  {
   "cell_type": "code",
   "execution_count": 188,
   "id": "684ec739-52a5-475d-806c-0c0ce4cef291",
   "metadata": {
    "deletable": false,
    "nbgrader": {
     "cell_type": "code",
     "checksum": "8b992fc45d9bb740688e3f4644bdc62b",
     "grade": true,
     "grade_id": "answer3b",
     "locked": false,
     "points": 1,
     "schema_version": 3,
     "solution": true,
     "task": false
    },
    "tags": []
   },
   "outputs": [
    {
     "data": {
      "application/vnd.jupyter.widget-view+json": {
       "model_id": "5b656fe4e9ed4c659f5e717bf94f4677",
       "version_major": 2,
       "version_minor": 0
      },
      "text/plain": [
       "Gradient Descent:   0%|          | 0/1000 [00:00<?, ?it/s]"
      ]
     },
     "metadata": {},
     "output_type": "display_data"
    },
    {
     "name": "stdout",
     "output_type": "stream",
     "text": [
      "R^2 is: nan\n",
      "cost is nan\n"
     ]
    },
    {
     "name": "stderr",
     "output_type": "stream",
     "text": [
      "C:\\Users\\Seya.Schmassmann\\AppData\\Local\\Temp\\ipykernel_1484\\3697502228.py:99: RuntimeWarning: overflow encountered in multiply\n",
      "  gradient = np.mean((y - X @ self.w_) * -X.T, axis=1)\n",
      "C:\\Users\\Seya.Schmassmann\\AppData\\Roaming\\Python\\Python311\\site-packages\\numpy\\core\\_methods.py:118: RuntimeWarning: overflow encountered in reduce\n",
      "  ret = umr_sum(arr, axis, dtype, out, keepdims, where=where)\n",
      "C:\\Users\\Seya.Schmassmann\\AppData\\Local\\Temp\\ipykernel_1484\\3697502228.py:106: RuntimeWarning: invalid value encountered in multiply\n",
      "  gradient += self.alpha * self.w_\n"
     ]
    },
    {
     "data": {
      "application/vnd.jupyter.widget-view+json": {
       "model_id": "4c954d47e49a484883c0203abfc3eee0",
       "version_major": 2,
       "version_minor": 0
      },
      "text/plain": [
       "Gradient Descent:   0%|          | 0/1000 [00:00<?, ?it/s]"
      ]
     },
     "metadata": {},
     "output_type": "display_data"
    },
    {
     "name": "stdout",
     "output_type": "stream",
     "text": [
      "R^2 is: 0.922\n",
      "cost is 0.073\n"
     ]
    }
   ],
   "source": [
    "import pandas as pd\n",
    "\n",
    "df_heidelbeeren = pd.read_csv('heidelbeere_train.csv')\n",
    "\n",
    "lr = LinearRegression(learning_rate=1.0)\n",
    "\n",
    "X_train = df_heidelbeeren['Samen'].values.reshape(-1, 1)\n",
    "y_train = df_heidelbeeren['Ertrag'].values\n",
    "\n",
    "lr.fit(X_train, y_train)\n",
    "\n",
    "print(f\"R^2 is: {lr.score(X_train, y_train):.3f}\")\n",
    "print(f\"cost is {lr.cost(X_train, y_train):.3f}\")\n",
    "\n",
    "\n",
    "\n",
    "############\n",
    "\n",
    "# normalize X_train with scikit-learn\n",
    "from sklearn.preprocessing import StandardScaler\n",
    "# X_train = StandardScaler().fit(X_train).transform(X_train)\n",
    "X_train = (X_train - X_train.mean(axis=0)) / X_train.std(axis=0)\n",
    "\n",
    "lr.fit(X_train, y_train)\n",
    "\n",
    "print(f\"R^2 is: {lr.score(X_train, y_train):.3f}\")\n",
    "print(f\"cost is {lr.cost(X_train, y_train):.3f}\")"
   ]
  },
  {
   "cell_type": "markdown",
   "id": "a9c285dd-2902-4e8d-8a54-121d52757b66",
   "metadata": {
    "deletable": false,
    "editable": false,
    "nbgrader": {
     "cell_type": "markdown",
     "checksum": "741b3d89a81e6d719282d20bb2a58b6f",
     "grade": false,
     "grade_id": "task3b2",
     "locked": true,
     "schema_version": 3,
     "solution": false,
     "task": false
    },
    "tags": []
   },
   "source": [
    "Was beobachten Sie? Erklären Sie."
   ]
  },
  {
   "cell_type": "markdown",
   "id": "cbed822f-c632-46e5-b99f-989f58acc3b6",
   "metadata": {
    "deletable": false,
    "nbgrader": {
     "cell_type": "markdown",
     "checksum": "1f1196ea5c04dd6f3dd1b9e98b0f7cb4",
     "grade": true,
     "grade_id": "answer3b2",
     "locked": false,
     "points": 1,
     "schema_version": 3,
     "solution": true,
     "task": false
    },
    "tags": []
   },
   "source": [
    "YOUR ANSWER HERE"
   ]
  },
  {
   "cell_type": "markdown",
   "id": "4f7a3b8f-3374-435e-a090-4f4f735ecafa",
   "metadata": {
    "deletable": false,
    "editable": false,
    "nbgrader": {
     "cell_type": "markdown",
     "checksum": "152a3c450d301e95ff5c9f36ca4182c7",
     "grade": false,
     "grade_id": "task3c",
     "locked": true,
     "schema_version": 3,
     "solution": false,
     "task": false
    },
    "tags": []
   },
   "source": [
    "### Aufgabe 3c\n",
    "\n",
    "Verwenden Sie nun die Variablen `Fruchtmasse` und `Samen` gleichzeitig (_Multivariate Linear Regression_). **Ändern Sie was immer Sie für nötig halten (z.B. Modell-Parameter oder Pre-Processing)** um das Modell erfolgreich und mit möglichst wenig Gradient Descent Updates (steps) zu trainieren. Zeigen Sie mit einer geeigneten Grafik ob Batch Gradient Descent konvergiert hat (z.B. eine _Learning Curve_).\n",
    "\n",
    "Folgende Parameter von `LinearRegression` sollen Sie verwenden und dürfen nicht geändert werden:\n",
    "- `epsilon=1e-3`\n",
    "- `alpha=0`\n",
    "- `optimization_method=\"bgd\"`\n",
    "- `max_num_steps=x` wobei $x\\le50000$ (damit Sie nicht ewig trainieren)\n",
    "\n",
    "\n",
    "Versuchen Sie das Abbruchkriterium `Gradient < epsilon` zu erreichen."
   ]
  },
  {
   "cell_type": "code",
   "execution_count": 199,
   "id": "f7d9be62-c650-45f1-87df-b31980f8dbed",
   "metadata": {
    "deletable": false,
    "nbgrader": {
     "cell_type": "code",
     "checksum": "915783a00de820db57f42cf4d49f1930",
     "grade": true,
     "grade_id": "answer3c",
     "locked": false,
     "points": 2,
     "schema_version": 3,
     "solution": true,
     "task": false
    },
    "tags": []
   },
   "outputs": [
    {
     "name": "stdout",
     "output_type": "stream",
     "text": [
      "(543, 2)\n"
     ]
    },
    {
     "data": {
      "application/vnd.jupyter.widget-view+json": {
       "model_id": "b73214a0eab3452ca7764526ba939262",
       "version_major": 2,
       "version_minor": 0
      },
      "text/plain": [
       "Gradient Descent:   0%|          | 0/50000 [00:00<?, ?it/s]"
      ]
     },
     "metadata": {},
     "output_type": "display_data"
    },
    {
     "name": "stdout",
     "output_type": "stream",
     "text": [
      "Converged at step 3884\n",
      "R^2 is: 0.952\n",
      "cost is 0.045\n"
     ]
    },
    {
     "data": {
      "text/plain": [
       "[<matplotlib.lines.Line2D at 0x236d8586510>]"
      ]
     },
     "execution_count": 199,
     "metadata": {},
     "output_type": "execute_result"
    },
    {
     "data": {
      "image/png": "[encoded data removed]",
      "text/plain": [
       "<Figure size 640x480 with 1 Axes>"
      ]
     },
     "metadata": {},
     "output_type": "display_data"
    }
   ],
   "source": [
    "import pandas as pd\n",
    "import matplotlib.pyplot as plt\n",
    "from sklearn.preprocessing import StandardScaler\n",
    "\n",
    "df_heidelbeeren = pd.read_csv('heidelbeere_train.csv')\n",
    "\n",
    "lr = LinearRegression(epsilon=1e-3, max_num_steps=50000, learning_rate=0.1, optimization_method=\"bgd\", alpha=0.0, verbose=True)\n",
    "\n",
    "X_train = df_heidelbeeren[['Samen', 'Fruchtmasse']]\n",
    "y_train = df_heidelbeeren['Ertrag'].values\n",
    "\n",
    "X_train = StandardScaler().fit(X_train).transform(X_train)\n",
    "\n",
    "print(X_train.shape)\n",
    "\n",
    "lr.fit(X_train, y_train)\n",
    "\n",
    "print(f\"R^2 is: {lr.score(X_train, y_train):.3f}\")\n",
    "print(f\"cost is {lr.cost(X_train, y_train):.3f}\")\n",
    "\n",
    "# plot self.history (array of costs)\n",
    "plt.plot(lr.history)\n"
   ]
  },
  {
   "cell_type": "markdown",
   "id": "cb3ee7bd-f11f-4684-8e43-cd1f5f19e493",
   "metadata": {
    "deletable": false,
    "editable": false,
    "nbgrader": {
     "cell_type": "markdown",
     "checksum": "0eb180da58234c88e87f5d24b9b8989c",
     "grade": false,
     "grade_id": "task3c2",
     "locked": true,
     "schema_version": 3,
     "solution": false,
     "task": false
    },
    "tags": []
   },
   "source": [
    "Is es Ihnen gelungen das Abbruchkriterium zu erreichen? \n",
    "\n",
    "Falls Ja: Was war entscheidend?\n",
    "\n",
    "Falls Nein: Warum nicht? Was hat Sie dem Ziel näher gebracht?"
   ]
  },
  {
   "cell_type": "markdown",
   "id": "f4ec7026-4d7c-4987-97f6-bf570ac848d4",
   "metadata": {
    "deletable": false,
    "nbgrader": {
     "cell_type": "markdown",
     "checksum": "3242f5f52500245d001c3ad750d5e565",
     "grade": true,
     "grade_id": "answer3c2",
     "locked": false,
     "points": 1,
     "schema_version": 3,
     "solution": true,
     "task": false
    },
    "tags": []
   },
   "source": [
    "YOUR ANSWER HERE"
   ]
  },
  {
   "cell_type": "markdown",
   "id": "1d5e7a01-67a9-421a-874a-32695fddef42",
   "metadata": {
    "deletable": false,
    "editable": false,
    "nbgrader": {
     "cell_type": "markdown",
     "checksum": "31a859193a46514a9d22146d7f6c0990",
     "grade": false,
     "grade_id": "task3d",
     "locked": true,
     "schema_version": 3,
     "solution": false,
     "task": false
    },
    "tags": []
   },
   "source": [
    "### Aufgabe 3d\n",
    "\n",
    "Trainieren Sie nun zwei Modelle. Einmal mit `optimization_method=\"sgd\"` und einmal mit `optimization_method=\"bgd\"`. Sie können die restlichen Parameter selber wählen, sie sollen aber identisch sein für die beiden Modelle.\n",
    "\n",
    "Zeichnen Sie für beide Modelle eine Learning-Curve. Wählen Sie eine Darstellung die einen einfachen Vergleich erlaubt.\n"
   ]
  },
  {
   "cell_type": "code",
   "execution_count": 202,
   "id": "247606f6-4570-4a2c-9e4e-abe904ae8fed",
   "metadata": {
    "deletable": false,
    "nbgrader": {
     "cell_type": "code",
     "checksum": "20a51c8c19af82d9063d6e21927fa6fe",
     "grade": true,
     "grade_id": "answer3d",
     "locked": false,
     "points": 2,
     "schema_version": 3,
     "solution": true,
     "task": false
    },
    "tags": []
   },
   "outputs": [
    {
     "name": "stdout",
     "output_type": "stream",
     "text": [
      "(543, 2)\n"
     ]
    },
    {
     "data": {
      "application/vnd.jupyter.widget-view+json": {
       "model_id": "724ab59f4e28458b806db527ec322c58",
       "version_major": 2,
       "version_minor": 0
      },
      "text/plain": [
       "Gradient Descent:   0%|          | 0/50000 [00:00<?, ?it/s]"
      ]
     },
     "metadata": {},
     "output_type": "display_data"
    },
    {
     "name": "stdout",
     "output_type": "stream",
     "text": [
      "Converged at step 51\n",
      "R^2 is: 0.893\n",
      "cost is 0.014\n"
     ]
    },
    {
     "data": {
      "text/plain": [
       "[<matplotlib.lines.Line2D at 0x236d5168150>]"
      ]
     },
     "execution_count": 202,
     "metadata": {},
     "output_type": "execute_result"
    },
    {
     "data": {
      "image/png": "[encoded data removed]",
      "text/plain": [
       "<Figure size 640x480 with 1 Axes>"
      ]
     },
     "metadata": {},
     "output_type": "display_data"
    }
   ],
   "source": [
    "import pandas as pd\n",
    "import matplotlib.pyplot as plt\n",
    "from sklearn.preprocessing import StandardScaler\n",
    "\n",
    "df_heidelbeeren = pd.read_csv('heidelbeere_train.csv')\n",
    "\n",
    "lr = LinearRegression(epsilon=1e-3, max_num_steps=50000, learning_rate=0.1, optimization_method=\"sgd\", alpha=0.0, verbose=True)\n",
    "\n",
    "X_train = df_heidelbeeren[['Samen', 'Fruchtmasse']]\n",
    "y_train = df_heidelbeeren['Ertrag'].values\n",
    "\n",
    "X_train = StandardScaler().fit(X_train).transform(X_train)\n",
    "\n",
    "print(X_train.shape)\n",
    "\n",
    "lr.fit(X_train, y_train)\n",
    "\n",
    "print(f\"R^2 is: {lr.score(X_train, y_train):.3f}\")\n",
    "print(f\"cost is {lr.cost(X_train, y_train):.3f}\")\n",
    "\n",
    "# plot self.history (array of costs)\n",
    "plt.plot(lr.history)\n"
   ]
  },
  {
   "cell_type": "markdown",
   "id": "07cedea7-b525-4413-a1dc-c917f407b415",
   "metadata": {
    "deletable": false,
    "editable": false,
    "nbgrader": {
     "cell_type": "markdown",
     "checksum": "1b8d02f5df256d8650b15ed7473b8679",
     "grade": false,
     "grade_id": "task3d2",
     "locked": true,
     "schema_version": 3,
     "solution": false,
     "task": false
    },
    "tags": []
   },
   "source": [
    "Wie unterscheiden sich die Learning-Curves? Warum?"
   ]
  },
  {
   "cell_type": "markdown",
   "id": "f1e2a1e3-983e-4109-878d-67636619443a",
   "metadata": {
    "deletable": false,
    "nbgrader": {
     "cell_type": "markdown",
     "checksum": "d7da4066fe26dfdde9b45dea9ee35605",
     "grade": true,
     "grade_id": "answer3d2",
     "locked": false,
     "points": 1,
     "schema_version": 3,
     "solution": true,
     "task": false
    },
    "tags": []
   },
   "source": [
    "YOUR ANSWER HERE"
   ]
  },
  {
   "cell_type": "markdown",
   "id": "18514e51-b633-425a-ace8-97bb65f1593f",
   "metadata": {
    "deletable": false,
    "editable": false,
    "nbgrader": {
     "cell_type": "markdown",
     "checksum": "e1b0aa9ee86825cadd1b1139af611dd2",
     "grade": false,
     "grade_id": "task3e",
     "locked": true,
     "schema_version": 3,
     "solution": false,
     "task": false
    },
    "tags": []
   },
   "source": [
    "### Aufgabe 3e\n",
    "\n",
    "Nun untersuchen wir verschiedene Learning-Rates. Verwenden Sie dasselbe Setup wie in Aufgabe 3c. Mit folgenden Parameter:\n",
    "- `epsilon=-1`\n",
    "- `alpha=0`\n",
    "- `optimization_method=\"bgd\"`\n",
    "- `max_num_steps=500`\n",
    "\n",
    "\n",
    "Variieren Sie ausschliesslich den `learning_rate` Parameter in einem sinnvollen Bereich. Wählen Sie mind. 10 verschieden Werte. Trainieren Sie mehrere Modelle und vergleichen Sie die Konvergenz der Modelle für jeden Wert von `learning_rate`. Versuchen Sie eine möglichst hohe, funktionierende Learning-Rate zu finden. Erstellen Sie dazu Learning-Curves.\n",
    "\n",
    "Achten Sie darauf, dass die Darstellung einen sinnvollen Vergleich erlaubt."
   ]
  },
  {
   "cell_type": "code",
   "execution_count": 213,
   "id": "a7b85f52-912e-4041-8c34-fa2ca8ab9e89",
   "metadata": {
    "deletable": false,
    "nbgrader": {
     "cell_type": "code",
     "checksum": "819c446213dc202a0f92abc4018b3ec2",
     "grade": true,
     "grade_id": "answer3e",
     "locked": false,
     "points": 2,
     "schema_version": 3,
     "solution": true,
     "task": false
    },
    "tags": []
   },
   "outputs": [
    {
     "name": "stdout",
     "output_type": "stream",
     "text": [
      "(543, 2)\n"
     ]
    },
    {
     "data": {
      "application/vnd.jupyter.widget-view+json": {
       "model_id": "9cfda39e66b94adbb1c11c5d013cfdf4",
       "version_major": 2,
       "version_minor": 0
      },
      "text/plain": [
       "Gradient Descent:   0%|          | 0/500 [00:00<?, ?it/s]"
      ]
     },
     "metadata": {},
     "output_type": "display_data"
    },
    {
     "name": "stdout",
     "output_type": "stream",
     "text": [
      "R^2 is: 0.952\n",
      "cost is 0.045\n"
     ]
    },
    {
     "data": {
      "text/plain": [
       "[<matplotlib.lines.Line2D at 0x236d9d230d0>]"
      ]
     },
     "execution_count": 213,
     "metadata": {},
     "output_type": "execute_result"
    },
    {
     "data": {
      "image/png": "[encoded data removed]",
      "text/plain": [
       "<Figure size 640x480 with 1 Axes>"
      ]
     },
     "metadata": {},
     "output_type": "display_data"
    }
   ],
   "source": [
    "import pandas as pd\n",
    "import matplotlib.pyplot as plt\n",
    "from sklearn.preprocessing import StandardScaler\n",
    "\n",
    "df_heidelbeeren = pd.read_csv('heidelbeere_train.csv')\n",
    "\n",
    "lr = LinearRegression(epsilon=-1, max_num_steps=500, learning_rate=1, optimization_method=\"bgd\", alpha=0.0, verbose=True)\n",
    "\n",
    "X_train = df_heidelbeeren[['Samen', 'Fruchtmasse']]\n",
    "y_train = df_heidelbeeren['Ertrag'].values\n",
    "\n",
    "X_train = StandardScaler().fit(X_train).transform(X_train)\n",
    "\n",
    "print(X_train.shape)\n",
    "\n",
    "lr.fit(X_train, y_train)\n",
    "\n",
    "print(f\"R^2 is: {lr.score(X_train, y_train):.3f}\")\n",
    "print(f\"cost is {lr.cost(X_train, y_train):.3f}\")\n",
    "\n",
    "# plot self.history (array of costs)\n",
    "plt.plot(lr.history)\n"
   ]
  },
  {
   "cell_type": "markdown",
   "id": "7592d46b-20e5-4ac5-9e4e-fd05549b5a00",
   "metadata": {
    "deletable": false,
    "editable": false,
    "nbgrader": {
     "cell_type": "markdown",
     "checksum": "c853ea5ae4f3a5b97399c39bae4663b6",
     "grade": false,
     "grade_id": "task3e2",
     "locked": true,
     "schema_version": 3,
     "solution": false,
     "task": false
    },
    "tags": []
   },
   "source": [
    "Interpretieren Sie die Learning-Curves. Was sehen Sie? Welche Learning-Rates funktionieren und sind praktikabel? Welche finden Sie optimal?"
   ]
  },
  {
   "cell_type": "markdown",
   "id": "ff373323-cf17-4df7-935a-9ac9cc9554fc",
   "metadata": {
    "deletable": false,
    "nbgrader": {
     "cell_type": "markdown",
     "checksum": "f4611d5c7da3798f9eb726e6a0e54f4b",
     "grade": true,
     "grade_id": "answer3e2",
     "locked": false,
     "points": 1,
     "schema_version": 3,
     "solution": true,
     "task": false
    },
    "tags": []
   },
   "source": [
    "YOUR ANSWER HERE"
   ]
  },
  {
   "cell_type": "markdown",
   "id": "f33734bf-a923-465a-9138-fb349fa59fd7",
   "metadata": {
    "deletable": false,
    "editable": false,
    "nbgrader": {
     "cell_type": "markdown",
     "checksum": "5fc614508c1f7cf1913efdc3b6366e69",
     "grade": false,
     "grade_id": "task3f",
     "locked": true,
     "schema_version": 3,
     "solution": false,
     "task": false
    },
    "tags": []
   },
   "source": [
    "### Aufgabe 3f\n",
    "\n",
    "In dieser Aufgabe untersuchen Sie den Effekt der Regularisierung $\\lambda$ (Parameter `alpha`) auf das Modell. Dazu trainieren Sie mehrere Modelle mit verschiedenen Werten von `alpha` und vergleichen dann die Resultate. Folgende Bedingungen sollen Sie erfüllen:\n",
    "\n",
    "- Verwenden Sie folgende Features: `\"Samen\", \"Fruchtmasse\", \"Klongrösse\", \"Honigbiene\"`\n",
    "\n",
    "- Verwenden Sie `sklearn.preprocessing.PolynomialFeatures` um noch mehr Features zu generieren. Lesen Sie dazu die Dokumentation: [sklearn.preprocessing.PolynomialFeatures](https://scikit-learn.org/stable/modules/generated/sklearn.preprocessing.PolynomialFeatures.html)\n",
    "\n",
    "- Wählen Sie die `alpha` über einen grosszügig gewählten Bereich. Alle anderen Parameter sollen für alle Modelle identisch sein.\n",
    "\n",
    "- Vergleichen Sie für die verschiedenen Modelle die gefundenen Modell-Koeffizienten $\\mathbf{w}$. Plotten Sie dazu `alpha` auf der X-Achse und den Wert von jedem Modell-Koeffizient auf der Y-Achse. Beispiel: [Link](https://scikit-learn.org/stable/auto_examples/linear_model/plot_ridge_path.html)\n",
    "\n",
    "\n",
    "Tipp: Sie können `sklearn.preprocessing.StandardScaler` und `sklearn.pipeline.Pipeline`verwenden.\n"
   ]
  },
  {
   "cell_type": "code",
   "execution_count": null,
   "id": "7c9d99e9-0c24-49e5-a3a9-0824ce9088a9",
   "metadata": {
    "deletable": false,
    "nbgrader": {
     "cell_type": "code",
     "checksum": "c6a681487f03f2fc32efa8809e6d2b6f",
     "grade": true,
     "grade_id": "answer3f",
     "locked": false,
     "points": 2,
     "schema_version": 3,
     "solution": true,
     "task": false
    },
    "tags": []
   },
   "outputs": [],
   "source": [
    "# YOUR CODE HERE\n",
    "raise NotImplementedError()"
   ]
  },
  {
   "cell_type": "markdown",
   "id": "85bf08a7-8721-4df0-981a-83a497c477b5",
   "metadata": {
    "deletable": false,
    "editable": false,
    "nbgrader": {
     "cell_type": "markdown",
     "checksum": "07ec22c081523a1802e007aa5a7e124a",
     "grade": false,
     "grade_id": "task3f2",
     "locked": true,
     "schema_version": 3,
     "solution": false,
     "task": false
    },
    "tags": []
   },
   "source": [
    "Interpretieren Sie den Plot. Was sieht man und warum sieht es so aus?"
   ]
  },
  {
   "cell_type": "markdown",
   "id": "abc544d5-6a62-45d0-9e80-5edff1bc1001",
   "metadata": {
    "deletable": false,
    "nbgrader": {
     "cell_type": "markdown",
     "checksum": "8437d0c7a369e79f09c02f9c55e1e9f4",
     "grade": true,
     "grade_id": "answer3f2",
     "locked": false,
     "points": 1,
     "schema_version": 3,
     "solution": true,
     "task": false
    },
    "tags": []
   },
   "source": [
    "YOUR ANSWER HERE"
   ]
  },
  {
   "cell_type": "markdown",
   "id": "expired-distinction",
   "metadata": {
    "deletable": false,
    "editable": false,
    "nbgrader": {
     "cell_type": "markdown",
     "checksum": "efa424dd7e8b3e017924bae0bfea2ab0",
     "grade": false,
     "grade_id": "aufgabe4",
     "locked": true,
     "schema_version": 3,
     "solution": false,
     "task": false
    },
    "tags": []
   },
   "source": [
    "## Aufgabe 4 (8 Punkte)\n",
    "\n",
    "In dieser Aufgabe geht es darum ein best mögliches Modell zu finden.\n"
   ]
  },
  {
   "cell_type": "markdown",
   "id": "cab08236",
   "metadata": {
    "deletable": false,
    "editable": false,
    "nbgrader": {
     "cell_type": "markdown",
     "checksum": "c04e95846195bfda08be65f14973ac25",
     "grade": false,
     "grade_id": "aufgabe4a",
     "locked": true,
     "schema_version": 3,
     "solution": false,
     "task": false
    },
    "tags": []
   },
   "source": [
    "### Aufgabe 4a\n",
    "\n",
    "- Entwickeln Sie nun ein multiples lineares Regressionsmodell für die Zielgrösse `Ernte`.\n",
    "- Sie dürfen durch Feature-Transformation beliebige weitere Attribute hinzufügen.\n",
    "- Trainieren Sie das Modell mit dem Trainings-Datensatz. \n",
    "- Evaluieren Sie das beste Modell auf dem Trainings- und auf dem Testdatensatz.\n",
    "\n",
    "Hinweis: In dieser Aufgabe geht es darum ein möglichst gutes Modell zu finden. Sie sollen demonstrieren, dass Sie in der Lage sind verschiedene Modell-Varianten miteinander zu vergleichen und die beste Variante auszuwählen. Ein ideales Instrument ist Kreuzvalidierung. Lesen Sie dazu die folgende Dokumentation: [cross_validation](https://scikit-learn.org/stable/modules/cross_validation.html). Verwenden Sie [sklearn.model_selection.GridSearchCV](https://scikit-learn.org/stable/modules/generated/sklearn.model_selection.GridSearchCV.html) um verschiedene Modelle miteinander zu vergleichen. \n",
    "\n",
    "Verwenden Sie geeignete Instrumente von sklearn, wie z.B.:\n",
    "- [sklearn.preprocessing.StandardScaler](https://scikit-learn.org/stable/modules/generated/sklearn.preprocessing.StandardScaler.html)\n",
    "- [sklearn.pipeline.Pipeline](https://scikit-learn.org/stable/modules/generated/sklearn.pipeline.Pipeline.html)\n",
    "- [sklearn.compose](https://scikit-learn.org/stable/modules/classes.html#module-sklearn.compose)"
   ]
  },
  {
   "cell_type": "code",
   "execution_count": null,
   "id": "d89fccd5",
   "metadata": {
    "deletable": false,
    "nbgrader": {
     "cell_type": "code",
     "checksum": "9faaff1d20cc48e6ea2a2a50814da5ea",
     "grade": true,
     "grade_id": "answer4a",
     "locked": false,
     "points": 6,
     "schema_version": 3,
     "solution": true,
     "task": false
    },
    "tags": []
   },
   "outputs": [],
   "source": [
    "# YOUR CODE HERE\n",
    "raise NotImplementedError()"
   ]
  },
  {
   "cell_type": "markdown",
   "id": "6118c0d2",
   "metadata": {
    "deletable": false,
    "editable": false,
    "nbgrader": {
     "cell_type": "markdown",
     "checksum": "4df26a9dd6a1807667e113856777841a",
     "grade": false,
     "grade_id": "aufgabe4b",
     "locked": true,
     "schema_version": 3,
     "solution": false,
     "task": false
    },
    "tags": []
   },
   "source": [
    "### Aufgabe 4b\n",
    "\n",
    "Interpretieren Sie das Ergebnis:\n",
    "\n",
    "- Welche Modell-Varianten haben Sie verglichen? Welche ist die beste?\n",
    "- Vergleichen und interpretieren Sie Scores auf Test- und Trainingsdatensatz. Wie schneidet das Modell zu den besten Modellen aus Aufgabe 3 ab?"
   ]
  },
  {
   "cell_type": "markdown",
   "id": "92b10e20",
   "metadata": {
    "deletable": false,
    "nbgrader": {
     "cell_type": "markdown",
     "checksum": "e9f94662cd7dc59b02d9ef9bc8748465",
     "grade": true,
     "grade_id": "answer4b",
     "locked": false,
     "points": 2,
     "schema_version": 3,
     "solution": true,
     "task": false
    },
    "tags": []
   },
   "source": [
    "YOUR ANSWER HERE"
   ]
  },
  {
   "cell_type": "markdown",
   "id": "agreed-grace",
   "metadata": {
    "deletable": false,
    "editable": false,
    "nbgrader": {
     "cell_type": "markdown",
     "checksum": "a74dcbcabcee618805edb2a7e88c88de",
     "grade": false,
     "grade_id": "aufgabe5",
     "locked": true,
     "schema_version": 3,
     "solution": false,
     "task": false
    },
    "tags": []
   },
   "source": [
    "## Aufgabe 5 (2 Punkte)\n",
    "\n",
    "In dieser Aufgabe geht es darum die Ergebnisse der einzelnen Teilaufgaben zu konsolidieren und ein Fazit zu ziehen."
   ]
  },
  {
   "cell_type": "markdown",
   "id": "d0fe0b8f",
   "metadata": {
    "deletable": false,
    "editable": false,
    "nbgrader": {
     "cell_type": "markdown",
     "checksum": "a2eb8c27bfa2b1f5426fb7c0229b3bf3",
     "grade": false,
     "grade_id": "aufgabe5a",
     "locked": true,
     "schema_version": 3,
     "solution": false,
     "task": false
    },
    "tags": []
   },
   "source": [
    "### Aufgabe 5a\n",
    "\n",
    "Beantworten Sie folgende Fragen:\n",
    "\n",
    "- Wie schätzen Sie den Modellierungserfolg ein? Ist das Modell gut oder schlecht? Begründen Sie Ihre Antwort.\n",
    "\n",
    "- Alex soll in einem nächsten Projekt herausfinden, welche Einflussgrössen wichtig sind. Was können Sie dazu bereits sagen?\n"
   ]
  },
  {
   "cell_type": "markdown",
   "id": "1faca3d6-c6be-451c-9299-36ebf1a59af6",
   "metadata": {
    "deletable": false,
    "nbgrader": {
     "cell_type": "markdown",
     "checksum": "e7a0ec7b553e2aecb3302051ebbed443",
     "grade": true,
     "grade_id": "antwort5a",
     "locked": false,
     "points": 2,
     "schema_version": 3,
     "solution": true,
     "task": false
    },
    "tags": []
   },
   "source": [
    "YOUR ANSWER HERE"
   ]
  }
 ],
 "metadata": {
  "kernelspec": {
   "display_name": "Python 3 (ipykernel)",
   "language": "python",
   "name": "python3"
  },
  "language_info": {
   "codemirror_mode": {
    "name": "ipython",
    "version": 3
   },
   "file_extension": ".py",
   "mimetype": "text/x-python",
   "name": "python",
   "nbconvert_exporter": "python",
   "pygments_lexer": "ipython3",
   "version": "3.11.8"
  }
 },
 "nbformat": 4,
 "nbformat_minor": 5
}
